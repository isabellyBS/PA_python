{
  "nbformat": 4,
  "nbformat_minor": 0,
  "metadata": {
    "colab": {
      "provenance": [],
      "authorship_tag": "ABX9TyMDxvxa3tdgXWgiK0AV48kE",
      "include_colab_link": true
    },
    "kernelspec": {
      "name": "python3",
      "display_name": "Python 3"
    },
    "language_info": {
      "name": "python"
    }
  },
  "cells": [
    {
      "cell_type": "markdown",
      "metadata": {
        "id": "view-in-github",
        "colab_type": "text"
      },
      "source": [
        "<a href=\"https://colab.research.google.com/github/isabellyBS/PA_python/blob/main/Aula_PA/operadores.ipynb\" target=\"_parent\"><img src=\"https://colab.research.google.com/assets/colab-badge.svg\" alt=\"Open In Colab\"/></a>"
      ]
    },
    {
      "cell_type": "code",
      "execution_count": null,
      "metadata": {
        "id": "vgFWUCVanLw-",
        "colab": {
          "base_uri": "https://localhost:8080/"
        },
        "outputId": "7e5a215a-66c1-4cea-cd77-2710721a7b2c"
      },
      "outputs": [
        {
          "output_type": "execute_result",
          "data": {
            "text/plain": [
              "2"
            ]
          },
          "metadata": {},
          "execution_count": 1
        }
      ],
      "source": [
        "#Soma\n",
        "1+1"
      ]
    },
    {
      "cell_type": "code",
      "source": [],
      "metadata": {
        "id": "1B9norx_-eyI"
      },
      "execution_count": null,
      "outputs": []
    },
    {
      "cell_type": "code",
      "source": [
        "#Subtração\n",
        "\n",
        "5-3"
      ],
      "metadata": {
        "colab": {
          "base_uri": "https://localhost:8080/"
        },
        "id": "gIZgqwSLx6dt",
        "outputId": "8bb7266f-7e45-43d7-a9b6-c50a55055ea1"
      },
      "execution_count": null,
      "outputs": [
        {
          "output_type": "execute_result",
          "data": {
            "text/plain": [
              "2"
            ]
          },
          "metadata": {},
          "execution_count": 2
        }
      ]
    },
    {
      "cell_type": "code",
      "source": [
        "#Multiplicação\n",
        "\n",
        "5*5"
      ],
      "metadata": {
        "colab": {
          "base_uri": "https://localhost:8080/"
        },
        "id": "bnoxYo-CyIL4",
        "outputId": "78bc4397-1512-4df0-8dad-40585d5cf534"
      },
      "execution_count": null,
      "outputs": [
        {
          "output_type": "execute_result",
          "data": {
            "text/plain": [
              "25"
            ]
          },
          "metadata": {},
          "execution_count": 4
        }
      ]
    },
    {
      "cell_type": "code",
      "source": [
        "#Divisão\n",
        "\n",
        "6/2"
      ],
      "metadata": {
        "colab": {
          "base_uri": "https://localhost:8080/"
        },
        "id": "-OCIIQI_ycL4",
        "outputId": "1f6ab8c2-acf3-49f9-c36b-2284e1be327a"
      },
      "execution_count": null,
      "outputs": [
        {
          "output_type": "execute_result",
          "data": {
            "text/plain": [
              "3.0"
            ]
          },
          "metadata": {},
          "execution_count": 9
        }
      ]
    },
    {
      "cell_type": "code",
      "source": [
        "#Expoente ( nº elevado)\n",
        "\n",
        "2**3"
      ],
      "metadata": {
        "colab": {
          "base_uri": "https://localhost:8080/"
        },
        "id": "pNKkaOday9XN",
        "outputId": "dea274e4-cb0a-4532-f5b1-930b1bb8072d"
      },
      "execution_count": null,
      "outputs": [
        {
          "output_type": "execute_result",
          "data": {
            "text/plain": [
              "8"
            ]
          },
          "metadata": {},
          "execution_count": 10
        }
      ]
    },
    {
      "cell_type": "markdown",
      "source": [
        "### **Variaveis**"
      ],
      "metadata": {
        "id": "gErE6yhmzgF-"
      }
    },
    {
      "cell_type": "code",
      "source": [
        "soma = 5+7"
      ],
      "metadata": {
        "id": "W5g-7h3yzlZb"
      },
      "execution_count": null,
      "outputs": []
    },
    {
      "cell_type": "code",
      "source": [
        "print ('A soma de 5 e 7 é' , soma)"
      ],
      "metadata": {
        "colab": {
          "base_uri": "https://localhost:8080/"
        },
        "id": "dSL9uTrE0SqP",
        "outputId": "eb4e61c3-f1e5-4100-ff4a-882b2416c7b3"
      },
      "execution_count": null,
      "outputs": [
        {
          "output_type": "stream",
          "name": "stdout",
          "text": [
            "A soma de 5 e 7 é 12\n"
          ]
        }
      ]
    },
    {
      "cell_type": "code",
      "source": [
        "soma"
      ],
      "metadata": {
        "colab": {
          "base_uri": "https://localhost:8080/"
        },
        "id": "5Fqxn_ey0ssa",
        "outputId": "7554eabf-8cab-4d90-963a-67e9bb236946"
      },
      "execution_count": null,
      "outputs": [
        {
          "output_type": "execute_result",
          "data": {
            "text/plain": [
              "12"
            ]
          },
          "metadata": {},
          "execution_count": 54
        }
      ]
    },
    {
      "cell_type": "code",
      "source": [
        "soma = soma + 2\n",
        "print ('somado a 2, a soma é', soma)"
      ],
      "metadata": {
        "colab": {
          "base_uri": "https://localhost:8080/"
        },
        "id": "QEAbIfT401Np",
        "outputId": "b8f95693-a0e3-4b08-96c0-c06e88a70717"
      },
      "execution_count": null,
      "outputs": [
        {
          "output_type": "stream",
          "name": "stdout",
          "text": [
            "somado a 2, a soma é 14\n"
          ]
        }
      ]
    },
    {
      "cell_type": "code",
      "source": [
        "soma = soma-5\n",
        "print ('tirei 5, então fica', soma)"
      ],
      "metadata": {
        "colab": {
          "base_uri": "https://localhost:8080/"
        },
        "id": "3eZNPzGo1_fv",
        "outputId": "38986e6a-e2bd-4cce-f843-801e3c681c0a"
      },
      "execution_count": null,
      "outputs": [
        {
          "output_type": "stream",
          "name": "stdout",
          "text": [
            "tirei 5, então fica 9\n"
          ]
        }
      ]
    },
    {
      "cell_type": "code",
      "source": [
        "soma = soma +2-5*8/3\n",
        "print ('coisando tudo, fica', soma)"
      ],
      "metadata": {
        "colab": {
          "base_uri": "https://localhost:8080/"
        },
        "id": "aeK0za1w2e83",
        "outputId": "d8e96414-23bc-4186-f466-52781e4556de"
      },
      "execution_count": null,
      "outputs": [
        {
          "output_type": "stream",
          "name": "stdout",
          "text": [
            "coisando tudo, fica -2.333333333333334\n"
          ]
        }
      ]
    },
    {
      "cell_type": "code",
      "source": [
        "a = (5+8)*(4-1)\n",
        "print ('a minha variavel é', a)"
      ],
      "metadata": {
        "colab": {
          "base_uri": "https://localhost:8080/"
        },
        "id": "jWyFHjM-3U5I",
        "outputId": "52b20cb4-5d2e-4259-878b-b50a236e9d5f"
      },
      "execution_count": null,
      "outputs": [
        {
          "output_type": "stream",
          "name": "stdout",
          "text": [
            "a minha variavel é 39\n"
          ]
        }
      ]
    },
    {
      "cell_type": "code",
      "source": [
        "#calcular área do quadrado\n",
        "\n",
        "##Entrada\n",
        "lado = float(input('Digite o lado do quadrado '))\n",
        "\n",
        "##Processamento\n",
        "area = lado*lado\n",
        "\n",
        "##Saída\n",
        "print ('A área do quadrado é', area,'ao quadrado')"
      ],
      "metadata": {
        "colab": {
          "base_uri": "https://localhost:8080/"
        },
        "id": "eiyaE4fz6Jev",
        "outputId": "876bf97d-5ce3-4336-9a6b-25842a147f97"
      },
      "execution_count": null,
      "outputs": [
        {
          "output_type": "stream",
          "name": "stdout",
          "text": [
            "Digite o lado do quadrado 5\n",
            "A área do quadrado é 25.0 ao quadrado\n"
          ]
        }
      ]
    },
    {
      "cell_type": "code",
      "source": [
        "##Perímetro de X quadrado\n",
        "\n",
        "#Entrada\n",
        "lado= float(input('Digite o lado do quadrado '))\n",
        "\n",
        "#Saída + processamento\n",
        "print ('O perímetro desse quadrado é', lado*4 , '.')"
      ],
      "metadata": {
        "colab": {
          "base_uri": "https://localhost:8080/"
        },
        "id": "TnGv7yaL7EOt",
        "outputId": "262fdbfc-29b4-438e-a621-78c00bf3f8f3"
      },
      "execution_count": null,
      "outputs": [
        {
          "output_type": "stream",
          "name": "stdout",
          "text": [
            "Digite o lado do quadrado 5\n",
            "O perímetro desse quadrado é 20.0 .\n"
          ]
        }
      ]
    }
  ]
}