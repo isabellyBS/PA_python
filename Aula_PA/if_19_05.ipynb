{
  "nbformat": 4,
  "nbformat_minor": 0,
  "metadata": {
    "colab": {
      "provenance": [],
      "authorship_tag": "ABX9TyMpaik4qc2SPD+is41gfdfK",
      "include_colab_link": true
    },
    "kernelspec": {
      "name": "python3",
      "display_name": "Python 3"
    },
    "language_info": {
      "name": "python"
    }
  },
  "cells": [
    {
      "cell_type": "markdown",
      "metadata": {
        "id": "view-in-github",
        "colab_type": "text"
      },
      "source": [
        "<a href=\"https://colab.research.google.com/github/isabellyBS/PA_python/blob/main/Aula_PA/if_19_05.ipynb\" target=\"_parent\"><img src=\"https://colab.research.google.com/assets/colab-badge.svg\" alt=\"Open In Colab\"/></a>"
      ]
    },
    {
      "cell_type": "markdown",
      "source": [
        "Lista de exercícios 19/05/25"
      ],
      "metadata": {
        "id": "UWKDiVIv2h1h"
      }
    },
    {
      "cell_type": "code",
      "execution_count": null,
      "metadata": {
        "colab": {
          "base_uri": "https://localhost:8080/"
        },
        "id": "V-uM-Vet2HUm",
        "outputId": "c369e1ce-4656-4804-bcf1-3c7f71681cfb"
      },
      "outputs": [
        {
          "output_type": "stream",
          "name": "stdout",
          "text": [
            "Usuário: a\n",
            "Senha: aa\n",
            "👍\n"
          ]
        }
      ],
      "source": [
        "#1. Caixa Eletrônica com Login e Operações Bancárias\n",
        "user = input(\"Usuário: \")\n",
        "senha = input('Senha: ')\n",
        "\n",
        "if not user == \"usuario123\" and senha == '123321':\n",
        "  print('Usuário e/ou senha incorretos. Tente novamente.')\n",
        "\n",
        "else:\n",
        "  print('👍')"
      ]
    },
    {
      "cell_type": "code",
      "source": [
        "### RESPONDER ESSE PARA O PRÓXIMO\n",
        "saldo = float(input('Qual é o seu saldo? '))\n",
        "limite = float(input('E seu limite (crédito)? '))"
      ],
      "metadata": {
        "colab": {
          "base_uri": "https://localhost:8080/"
        },
        "id": "OR3uCPxR-S0j",
        "outputId": "7fddc32f-5bca-4740-bcc4-9a1d745b5eb1"
      },
      "execution_count": 3,
      "outputs": [
        {
          "name": "stdout",
          "output_type": "stream",
          "text": [
            "Qual é o seu saldo? 59\n",
            "E seu limite (crédito)? 999999\n"
          ]
        }
      ]
    },
    {
      "cell_type": "code",
      "source": [
        "#2. Simulador de Saque e Depósito com Limite\n",
        "user = input(\"Usuário: \")\n",
        "senha = input('Senha: ')\n",
        "\n",
        "if user == \"usuario123\" and senha == '123321':\n",
        "  print('login correto')\n",
        "  print('O que deseja realizar?')\n",
        "  print('sacar=1   depositar=2   ver o saldo=3')\n",
        "  num = int(input('  '))\n",
        "\n",
        "\n",
        "  if num == 1:\n",
        "    print('saque de quantos reais??')\n",
        "    saque = float(input('  '))\n",
        "    if saque <= limite + saldo:\n",
        "      saldo = saldo - saque\n",
        "      print('Saque autorizado')\n",
        "      print('Seu saldo ficou de R$', saldo)\n",
        "    else:\n",
        "      print('Saque negado (ultrapassou o limite)')\n",
        "\n",
        "  elif num == 2:\n",
        "    print('Qual o valor a ser depositado? ')\n",
        "    depositado = float(input('  '))\n",
        "    saldo = saldo + depositado\n",
        "    print('Seu saldo ficou no valor de R$',saldo)\n",
        "\n",
        "  elif num ==3:\n",
        "    print('Seu saldo é de R$', saldo)\n",
        "\n",
        "else:\n",
        "  print('Usuário e/ou senha incorretos. Tente novamente.')\n"
      ],
      "metadata": {
        "colab": {
          "base_uri": "https://localhost:8080/"
        },
        "id": "2fZ0Qypf3AZl",
        "outputId": "379740c7-d0de-4ce4-e99a-921db84256c0"
      },
      "execution_count": 5,
      "outputs": [
        {
          "output_type": "stream",
          "name": "stdout",
          "text": [
            "Usuário: usuario123\n",
            "Senha: 123321\n",
            "login correto\n",
            "O que deseja realizar?\n",
            "sacar=1   depositar=2   ver o saldo=3\n",
            "  3\n",
            "Seu saldo é de R$ 59.0\n"
          ]
        }
      ]
    },
    {
      "cell_type": "code",
      "source": [
        "#Saber se pode competir no vôlei\n",
        "#Entrada\n",
        "print('Para saber se você pode competir no campeonato de vôlei, precisamos saber:')\n",
        "altura = float(input('a sua altura (em metros, ex: 1.52)'))\n",
        "idade = float(input('a sua idade '))\n",
        "\n",
        "#vai\n",
        "if altura >= 1.75 and idade >= 18:\n",
        "  print('Você pode participar!!')\n",
        "\n",
        "else:\n",
        "  print(\"Infelizmente você não pode participar :/\")"
      ],
      "metadata": {
        "id": "gzGwF5AdCP4h"
      },
      "execution_count": null,
      "outputs": []
    },
    {
      "cell_type": "code",
      "source": [
        "#4. Catagorias do Boxe\n",
        "print('Qual o seu peso?(em Kg, ex: 73.02)')\n",
        "peso = float(input('kg '))\n",
        "\n",
        "print('Você está na categoria:')\n",
        "\n",
        "if peso <= 46.27:\n",
        "  print('Palha Ligeira')\n",
        "\n",
        "elif peso <= 47.63:\n",
        "  print('Palha')\n",
        "\n",
        "elif peso <= 48.99:\n",
        "  print('Mosca Ligeira')\n",
        "\n",
        "elif peso <= 50.35:\n",
        "  print('Mosca')\n",
        "\n",
        "elif peso <= 51.71:\n",
        "  print('Super Mosca')\n",
        "\n",
        "elif peso <= 53.52:\n",
        "  print('Galo')\n",
        "\n",
        "elif peso <= 55.34:\n",
        "  print('Super galo')\n",
        "\n",
        "elif peso <= 57.15:\n",
        "  print('Pena')\n",
        "\n",
        "elif peso <= 58.97:\n",
        "  print('Super Pena')\n",
        "\n",
        "elif peso <= 61.23:\n",
        "  print('Leve')\n",
        "\n",
        "elif peso <= 63.5:\n",
        "  print('Super Leve')\n",
        "\n",
        "elif peso <= 66.68:\n",
        "  print('Meio-Médio')\n",
        "\n",
        "elif peso <= 69.85:\n",
        "  print('Super Meio-Médio')\n",
        "\n",
        "elif peso <= 73.03:\n",
        "  print('Médio')\n",
        "\n",
        "elif peso <= 76.2:\n",
        "  print('Super Médio')\n",
        "\n",
        "elif peso <= 79.38:\n",
        "  print('Meio-Pesado')\n",
        "\n",
        "elif peso <= 90.72:\n",
        "  print('Cruzador')\n",
        "\n",
        "else:\n",
        "  print('Pesado')"
      ],
      "metadata": {
        "colab": {
          "base_uri": "https://localhost:8080/"
        },
        "id": "743Unpw4DZUy",
        "outputId": "81e97784-bb66-400f-9109-e32a63ddeab9"
      },
      "execution_count": 1,
      "outputs": [
        {
          "output_type": "stream",
          "name": "stdout",
          "text": [
            "Qual o seu peso?(em Kg, ex: 73.02)\n",
            "kg 63\n",
            "Você está na categoria:\n",
            "Super Leve\n"
          ]
        }
      ]
    },
    {
      "cell_type": "code",
      "source": [
        "#5. imposto de renda\n",
        "print('Para saber quanto você irá pagar de imposto de renda, precisamos saber seu salário.(ex:1518.00)')\n",
        "sal=float(input(''))\n",
        "\n",
        "if sal <= 1903.98:\n",
        "  print('Você está isento.')\n",
        "\n",
        "elif sal <= 2826.65:\n",
        "  print('O imposto será de 7,5%')\n",
        "  print('Dando R$', sal / 100 * 7.5 ,'de imposto de renda')\n",
        "\n",
        "elif sal <= 3751.05:\n",
        "  print('O imposto será de 15%')\n",
        "  print('Dando R$', sal / 100 * 15,'de imposto de renda')\n",
        "\n",
        "elif sal <= 4664.68:\n",
        "  print('O imposto será de 22,5%')\n",
        "  print('Dando R$', sal / 100 * 22.5,'de imposto de renda')\n",
        "\n",
        "elif sal > 4664.68:\n",
        "  print('O imposto será de %27,5')\n",
        "  print('Dando R$', sal / 100 * 27.5,'de imposto de renda')"
      ],
      "metadata": {
        "colab": {
          "base_uri": "https://localhost:8080/"
        },
        "id": "fHqz-m4x3EaJ",
        "outputId": "9e1a4848-32c8-46e3-e84e-e29649f5fc2e"
      },
      "execution_count": 8,
      "outputs": [
        {
          "output_type": "stream",
          "name": "stdout",
          "text": [
            "Para saber quanto você irá pagar de imposto de renda, precisamos saber seu salário.(ex:1518.00)\n",
            "3800\n",
            "O imposto será de 22.5%\n",
            "Dando R$ 855.0 de imposto de renda\n"
          ]
        }
      ]
    },
    {
      "cell_type": "code",
      "source": [
        "#6. Aumento no salário\n",
        "print('Irá ter aumento!! Para saber quanto % seu salário aumentou, informe quanto ele é atualmente.')\n",
        "sal = float(input(''))\n",
        "\n",
        "if sal <= 1500:\n",
        "  print('Você terá uma aumento de 20% (ficando R$', sal / 100 * 20 + sal,')')\n",
        "\n",
        "elif sal <= 3000:\n",
        "  print('Você terá uma aumento de 15% (ficando R$', sal / 100 * 15 + sal,')')\n",
        "\n",
        "else:\n",
        "  print('Você terá uma aumento de 10% (ficando R$', sal / 100 * 10 + sal,')')"
      ],
      "metadata": {
        "colab": {
          "base_uri": "https://localhost:8080/"
        },
        "id": "ePSZLTK76-ja",
        "outputId": "e19dc92a-2285-46d2-96d7-855a68225910"
      },
      "execution_count": 11,
      "outputs": [
        {
          "output_type": "stream",
          "name": "stdout",
          "text": [
            "Irá ter aumento!! Para saber quanto % seu salário aumentou, informe quanto ele é atualmente.\n",
            "75000\n",
            "Você terá uma aumento de 10% (ficando R$ 82500.0 )\n"
          ]
        }
      ]
    },
    {
      "cell_type": "code",
      "source": [
        "#7. Simulador de frete inteligente\n",
        "print('Para calcular o frete é necessario saber:')\n",
        "kg = float(input('O peso em Kg: Kg '))\n",
        "km = float(input('A distância em Km: Km '))\n",
        "\n",
        "if kg <= 2:\n",
        "  print('Para um pacote de ', kg, 'kg viajando ', km, 'km, o valor do frete será de R$', km/100 * 5 , \".\")\n",
        "\n",
        "elif kg <= 5:\n",
        "  print('Para um pacote de ', kg, 'kg viajando ', km, 'km, o valor do frete será de R$', km/100 * 8, \".\")\n",
        "\n",
        "else:\n",
        "  print('Para um pacote de', kg, 'kg viajando', km, 'km, o valor do frete será de R$', km/100 * 10, \".\")"
      ],
      "metadata": {
        "colab": {
          "base_uri": "https://localhost:8080/"
        },
        "id": "PM4ck5xY9mWy",
        "outputId": "b9d4d436-7f16-40ed-b9a2-f08d2a2e2a14"
      },
      "execution_count": 14,
      "outputs": [
        {
          "output_type": "stream",
          "name": "stdout",
          "text": [
            "Para calcular o frete é necessario saber:\n",
            "O peso em Kg: Kg 5\n",
            "A distância em Km: Km 56\n",
            "Para um pacote de  5.0 kg viajando  56.0 km, o valor do frete será de R$ 4.48 .\n"
          ]
        }
      ]
    }
  ]
}