{
  "nbformat": 4,
  "nbformat_minor": 0,
  "metadata": {
    "colab": {
      "provenance": [],
      "authorship_tag": "ABX9TyP3938VYChBHRjiLFylaIHh",
      "include_colab_link": true
    },
    "kernelspec": {
      "name": "python3",
      "display_name": "Python 3"
    },
    "language_info": {
      "name": "python"
    }
  },
  "cells": [
    {
      "cell_type": "markdown",
      "metadata": {
        "id": "view-in-github",
        "colab_type": "text"
      },
      "source": [
        "<a href=\"https://colab.research.google.com/github/isabellyBS/PA_python/blob/main/Aula_PA/estudo(tem_uns_c%C3%B3digos_top)_23_06.ipynb\" target=\"_parent\"><img src=\"https://colab.research.google.com/assets/colab-badge.svg\" alt=\"Open In Colab\"/></a>"
      ]
    },
    {
      "cell_type": "markdown",
      "source": [
        "Lista\n",
        "#\n",
        "#while\n",
        "ele  so executa um código enquqanto ele for verdadeiro\n",
        "\n"
      ],
      "metadata": {
        "id": "Zzo7zrvkEcCC"
      }
    },
    {
      "cell_type": "code",
      "source": [
        "##Achei dahora e taquei aqui para cima\n",
        "\n",
        "#tabuada de número digitado pelo usuário\n",
        "n = int(input(\"Digite um número: \"))\n",
        "for i in range(1,11):\n",
        "  print(f\"{n}x{i}={n*i}\")\n",
        "  #f fala tipo \"quero a formatação desse jeito\""
      ],
      "metadata": {
        "colab": {
          "base_uri": "https://localhost:8080/"
        },
        "id": "a5erLN_IOu6j",
        "outputId": "dc6b863e-6aee-4145-e192-1b9040df1089"
      },
      "execution_count": 54,
      "outputs": [
        {
          "output_type": "stream",
          "name": "stdout",
          "text": [
            "Digite um número: 7\n",
            "7x1=7\n",
            "7x2=14\n",
            "7x3=21\n",
            "7x4=28\n",
            "7x5=35\n",
            "7x6=42\n",
            "7x7=49\n",
            "7x8=56\n",
            "7x9=63\n",
            "7x10=70\n"
          ]
        }
      ]
    },
    {
      "cell_type": "code",
      "execution_count": 1,
      "metadata": {
        "id": "zZ_4U-vaD5-V"
      },
      "outputs": [],
      "source": [
        "#Criar um lista\n",
        "chamada = ['apolo', 'beatriz', 'arthur', 'bruno', 'bernardo', 'iago', 'joão', 'bella', 'belly', 'vi', 'laura']"
      ]
    },
    {
      "cell_type": "code",
      "source": [
        "#Ta faltando gente, bote ai\n",
        "print('quem está faltando?')\n",
        "faltando=input('')\n",
        "chamada.append(faltando)\n",
        "\n",
        "print(chamada)"
      ],
      "metadata": {
        "colab": {
          "base_uri": "https://localhost:8080/"
        },
        "id": "AvBEH78qE-DT",
        "outputId": "3cd78bcf-20a5-41b0-ed72-e891670ecd37"
      },
      "execution_count": 5,
      "outputs": [
        {
          "output_type": "stream",
          "name": "stdout",
          "text": [
            "quem está faltando?\n",
            "giovane\n",
            "['apolo', 'beatriz', 'arthur', 'bruno', 'bernardo', 'iago', 'joão', 'bella', 'belly', 'vi', 'laura', 'henrique', 'josé', 'giovane']\n"
          ]
        }
      ]
    },
    {
      "cell_type": "code",
      "source": [
        "from os import remove\n",
        "print('tem nome repetido, qual nome é?')\n",
        "repetiu = input('')\n",
        "chamada.remove(repetiu)\n",
        "print('Ficou assim')\n",
        "chamada"
      ],
      "metadata": {
        "colab": {
          "base_uri": "https://localhost:8080/"
        },
        "id": "gRqNTxZzFMd_",
        "outputId": "fc633647-2047-416c-bdb3-19e6cea49595"
      },
      "execution_count": 6,
      "outputs": [
        {
          "output_type": "stream",
          "name": "stdout",
          "text": [
            "tem nome repetido, qual nome é?\n",
            "giovane\n",
            "Ficou assim\n"
          ]
        },
        {
          "output_type": "execute_result",
          "data": {
            "text/plain": [
              "['apolo',\n",
              " 'beatriz',\n",
              " 'arthur',\n",
              " 'bruno',\n",
              " 'bernardo',\n",
              " 'iago',\n",
              " 'joão',\n",
              " 'bella',\n",
              " 'belly',\n",
              " 'vi',\n",
              " 'laura',\n",
              " 'henrique',\n",
              " 'josé']"
            ]
          },
          "metadata": {},
          "execution_count": 6
        }
      ]
    },
    {
      "cell_type": "code",
      "source": [
        "#retira o colocado 0\n",
        "chamada.pop(0)"
      ],
      "metadata": {
        "colab": {
          "base_uri": "https://localhost:8080/",
          "height": 35
        },
        "id": "Dgpi5lcCGNzu",
        "outputId": "262029e5-29a0-4d89-bf37-fd9e01e9f34c"
      },
      "execution_count": 7,
      "outputs": [
        {
          "output_type": "execute_result",
          "data": {
            "text/plain": [
              "'apolo'"
            ],
            "application/vnd.google.colaboratory.intrinsic+json": {
              "type": "string"
            }
          },
          "metadata": {},
          "execution_count": 7
        }
      ]
    },
    {
      "cell_type": "code",
      "source": [
        "chamada"
      ],
      "metadata": {
        "colab": {
          "base_uri": "https://localhost:8080/"
        },
        "id": "co8DWwjMGT3X",
        "outputId": "33ea39a9-c40d-4934-f4c1-8a4069b502f6"
      },
      "execution_count": 8,
      "outputs": [
        {
          "output_type": "execute_result",
          "data": {
            "text/plain": [
              "['beatriz',\n",
              " 'arthur',\n",
              " 'bruno',\n",
              " 'bernardo',\n",
              " 'iago',\n",
              " 'joão',\n",
              " 'bella',\n",
              " 'belly',\n",
              " 'vi',\n",
              " 'laura',\n",
              " 'henrique',\n",
              " 'josé']"
            ]
          },
          "metadata": {},
          "execution_count": 8
        }
      ]
    },
    {
      "cell_type": "code",
      "source": [
        "for i in range(10):\n",
        "  print(i)"
      ],
      "metadata": {
        "colab": {
          "base_uri": "https://localhost:8080/"
        },
        "id": "QwV7rDO4HXXU",
        "outputId": "1a795208-7252-4466-cd30-471c9bb3ca69"
      },
      "execution_count": 12,
      "outputs": [
        {
          "output_type": "stream",
          "name": "stdout",
          "text": [
            "0\n",
            "1\n",
            "2\n",
            "3\n",
            "4\n",
            "5\n",
            "6\n",
            "7\n",
            "8\n",
            "9\n"
          ]
        }
      ]
    },
    {
      "cell_type": "code",
      "source": [
        "for chamada in chamada:\n",
        "  print (chamada)"
      ],
      "metadata": {
        "colab": {
          "base_uri": "https://localhost:8080/"
        },
        "id": "OJWTwNZkHtOC",
        "outputId": "2ae222e2-e5a0-46c0-bca2-52e806b61e67"
      },
      "execution_count": 13,
      "outputs": [
        {
          "output_type": "stream",
          "name": "stdout",
          "text": [
            "beatriz\n",
            "arthur\n",
            "bruno\n",
            "bernardo\n",
            "iago\n",
            "joão\n",
            "bella\n",
            "belly\n",
            "vi\n",
            "laura\n",
            "henrique\n",
            "josé\n"
          ]
        }
      ]
    },
    {
      "cell_type": "code",
      "source": [
        "#procurar um nome\n",
        "for chamada in \"beatriz\":\n",
        "  print(chamada)"
      ],
      "metadata": {
        "colab": {
          "base_uri": "https://localhost:8080/"
        },
        "id": "NK_soxb5IWif",
        "outputId": "c4cae1f9-fd27-44ab-f44a-5a1abd4431c7"
      },
      "execution_count": 39,
      "outputs": [
        {
          "output_type": "stream",
          "name": "stdout",
          "text": [
            "b\n",
            "e\n",
            "a\n",
            "t\n",
            "r\n",
            "i\n",
            "z\n"
          ]
        }
      ]
    },
    {
      "cell_type": "code",
      "source": [
        "for chamada  in range(3) :\n",
        "  print(chamada)"
      ],
      "metadata": {
        "colab": {
          "base_uri": "https://localhost:8080/"
        },
        "id": "-SmnpG-ZI9eQ",
        "outputId": "c9e63708-3ef8-4a2d-d30a-44c460ff9761"
      },
      "execution_count": 40,
      "outputs": [
        {
          "output_type": "stream",
          "name": "stdout",
          "text": [
            "0\n",
            "1\n",
            "2\n"
          ]
        }
      ]
    },
    {
      "cell_type": "code",
      "source": [
        "nu=float(input('número: '))\n",
        "\n",
        "while nu < 6:\n",
        "  print('seu num is six')\n",
        "  nu += 1"
      ],
      "metadata": {
        "colab": {
          "base_uri": "https://localhost:8080/"
        },
        "id": "NPvIviJNJHdF",
        "outputId": "f4d94e7e-c1b0-427f-a1cd-8db72e45f234"
      },
      "execution_count": 33,
      "outputs": [
        {
          "output_type": "stream",
          "name": "stdout",
          "text": [
            "número: 2\n",
            "seu num is six\n",
            "seu num is six\n",
            "seu num is six\n",
            "seu num is six\n"
          ]
        }
      ]
    },
    {
      "cell_type": "code",
      "source": [
        "contador = 0\n",
        "while contador < 5:\n",
        "  print(contador)\n",
        "  contador += 1"
      ],
      "metadata": {
        "colab": {
          "base_uri": "https://localhost:8080/"
        },
        "id": "pukv3AdiKOBF",
        "outputId": "68f2074d-4d83-40ce-fb8e-469a9c9b7b84"
      },
      "execution_count": 28,
      "outputs": [
        {
          "output_type": "stream",
          "name": "stdout",
          "text": [
            "0\n",
            "1\n",
            "2\n",
            "3\n",
            "4\n"
          ]
        }
      ]
    },
    {
      "cell_type": "code",
      "source": [
        "#contar de 1 ate 10\n",
        "for i in range(1,11):\n",
        "  print(i)"
      ],
      "metadata": {
        "colab": {
          "base_uri": "https://localhost:8080/"
        },
        "id": "MIwg6U0yK9RA",
        "outputId": "b4b70c3d-ac3f-42a2-e37f-039072e2139c"
      },
      "execution_count": 35,
      "outputs": [
        {
          "output_type": "stream",
          "name": "stdout",
          "text": [
            "1\n",
            "2\n",
            "3\n",
            "4\n",
            "5\n",
            "6\n",
            "7\n",
            "8\n",
            "9\n",
            "10\n"
          ]
        }
      ]
    },
    {
      "cell_type": "code",
      "source": [
        "for chamada in range(0,6):\n",
        "  print(chamada)"
      ],
      "metadata": {
        "colab": {
          "base_uri": "https://localhost:8080/"
        },
        "id": "9EbLZNr1LP1U",
        "outputId": "a073b476-9a7e-41cf-a995-4d400274e537"
      },
      "execution_count": 38,
      "outputs": [
        {
          "output_type": "stream",
          "name": "stdout",
          "text": [
            "0\n",
            "1\n",
            "2\n",
            "3\n",
            "4\n",
            "5\n"
          ]
        }
      ]
    },
    {
      "cell_type": "code",
      "source": [
        "for i in range(11, 21):\n",
        "  print(i)"
      ],
      "metadata": {
        "colab": {
          "base_uri": "https://localhost:8080/"
        },
        "id": "51nlUy4QLhfz",
        "outputId": "39edde09-e1fe-46ba-9fae-b5af30979895"
      },
      "execution_count": 41,
      "outputs": [
        {
          "output_type": "stream",
          "name": "stdout",
          "text": [
            "11\n",
            "12\n",
            "13\n",
            "14\n",
            "15\n",
            "16\n",
            "17\n",
            "18\n",
            "19\n",
            "20\n"
          ]
        }
      ]
    },
    {
      "cell_type": "code",
      "source": [
        "#somar os 10 primeiros num\n",
        "soma=0\n",
        "for i in range(1,11):\n",
        "  soma += i\n",
        "print(\"soma:\",soma)"
      ],
      "metadata": {
        "colab": {
          "base_uri": "https://localhost:8080/"
        },
        "id": "mfUmbbSVL4yf",
        "outputId": "9700f457-b02f-4198-a4f9-87bb98bda46b"
      },
      "execution_count": 45,
      "outputs": [
        {
          "output_type": "stream",
          "name": "stdout",
          "text": [
            "soma: 55\n"
          ]
        }
      ]
    },
    {
      "cell_type": "code",
      "source": [
        "#tabuada de número digitado pelo usuário\n",
        "n = int(input(\"Digite um número: \"))\n",
        "for i in range(1,11):\n",
        "  print(f\"{n}x{i}={n*i}\")"
      ],
      "metadata": {
        "colab": {
          "base_uri": "https://localhost:8080/"
        },
        "id": "MrxNuWiiMGNY",
        "outputId": "bd0fe5cf-dcb2-403e-b185-8049bec58858"
      },
      "execution_count": 53,
      "outputs": [
        {
          "output_type": "stream",
          "name": "stdout",
          "text": [
            "Digite um número: 5\n",
            "5x1=5\n",
            "5x2=10\n",
            "5x3=15\n",
            "5x4=20\n",
            "5x5=25\n",
            "5x6=30\n",
            "5x7=35\n",
            "5x8=40\n",
            "5x9=45\n",
            "5x10=50\n"
          ]
        }
      ]
    },
    {
      "cell_type": "code",
      "source": [
        "#nu pares de 0 a 20\n",
        "for i in range(1,21):\n",
        "  print(f\"{i} é par, {i%2==0}\")"
      ],
      "metadata": {
        "colab": {
          "base_uri": "https://localhost:8080/"
        },
        "id": "vhUHHqsNP5Zr",
        "outputId": "8664ff91-2a42-4fed-abd1-a71e0f50de03"
      },
      "execution_count": 55,
      "outputs": [
        {
          "output_type": "stream",
          "name": "stdout",
          "text": [
            "1 é par, False\n",
            "2 é par, True\n",
            "3 é par, False\n",
            "4 é par, True\n",
            "5 é par, False\n",
            "6 é par, True\n",
            "7 é par, False\n",
            "8 é par, True\n",
            "9 é par, False\n",
            "10 é par, True\n",
            "11 é par, False\n",
            "12 é par, True\n",
            "13 é par, False\n",
            "14 é par, True\n",
            "15 é par, False\n",
            "16 é par, True\n",
            "17 é par, False\n",
            "18 é par, True\n",
            "19 é par, False\n",
            "20 é par, True\n"
          ]
        }
      ]
    },
    {
      "cell_type": "code",
      "source": [
        "#numeros pares de 0 a 20\n",
        "for i in range(0,21):\n",
        "  if i%2==0:\n",
        "    print(i)"
      ],
      "metadata": {
        "colab": {
          "base_uri": "https://localhost:8080/"
        },
        "id": "nFZNgdN5Qz78",
        "outputId": "460f9573-8100-429d-d61d-77d681dbc429"
      },
      "execution_count": 60,
      "outputs": [
        {
          "output_type": "stream",
          "name": "stdout",
          "text": [
            "0\n",
            "2\n",
            "4\n",
            "6\n",
            "8\n",
            "10\n",
            "12\n",
            "14\n",
            "16\n",
            "18\n",
            "20\n"
          ]
        }
      ]
    },
    {
      "cell_type": "code",
      "source": [
        "for i in range(0,21,2):\n",
        "  # esse 2 depois do 21, , faz ele pular de 2 em 2\n",
        "  print(i)"
      ],
      "metadata": {
        "colab": {
          "base_uri": "https://localhost:8080/"
        },
        "id": "NfIE8OugSXWo",
        "outputId": "f842d62c-2c0b-4774-9bf6-2e31619c8c02"
      },
      "execution_count": 61,
      "outputs": [
        {
          "output_type": "stream",
          "name": "stdout",
          "text": [
            "0\n",
            "2\n",
            "4\n",
            "6\n",
            "8\n",
            "10\n",
            "12\n",
            "14\n",
            "16\n",
            "18\n",
            "20\n"
          ]
        }
      ]
    },
    {
      "cell_type": "code",
      "source": [
        "for i in range(0, 100, 75):\n",
        "  print(i)"
      ],
      "metadata": {
        "colab": {
          "base_uri": "https://localhost:8080/"
        },
        "id": "KSKTSWa5SsOn",
        "outputId": "0ee5677c-7442-475c-dc7b-25c60bda66c3"
      },
      "execution_count": 66,
      "outputs": [
        {
          "output_type": "stream",
          "name": "stdout",
          "text": [
            "0\n",
            "75\n"
          ]
        }
      ]
    },
    {
      "cell_type": "code",
      "source": [
        "#contagem regressiva de 10 até 0\n",
        "for i in range(10,-1,-1):\n",
        "  print(i)"
      ],
      "metadata": {
        "colab": {
          "base_uri": "https://localhost:8080/"
        },
        "id": "enW1QN7mTY-v",
        "outputId": "0c79812d-e872-495b-c694-1846247a0485"
      },
      "execution_count": 71,
      "outputs": [
        {
          "output_type": "stream",
          "name": "stdout",
          "text": [
            "10\n",
            "9\n",
            "8\n",
            "7\n",
            "6\n",
            "5\n",
            "4\n",
            "3\n",
            "2\n",
            "1\n",
            "0\n"
          ]
        }
      ]
    },
    {
      "cell_type": "code",
      "source": [
        "#somar números até que o usuário digite zero\n",
        "soma = 0\n",
        "\n",
        "num = int(input(\"Digite um número(0 para sair):\"))\n",
        "while num !=0:\n",
        "  soma += num\n",
        "  num = int(input(\"Digite um número(0 para sair):\"))\n",
        "print('Soma total:', soma)"
      ],
      "metadata": {
        "colab": {
          "base_uri": "https://localhost:8080/"
        },
        "id": "_dBIk1NBUIgH",
        "outputId": "98b8f9ca-fecb-4e53-824e-35d754a561a9"
      },
      "execution_count": 72,
      "outputs": [
        {
          "output_type": "stream",
          "name": "stdout",
          "text": [
            "Digite um número(0 para sair):7\n",
            "Digite um número(0 para sair):5\n",
            "Digite um número(0 para sair):9\n",
            "Digite um número(0 para sair):0\n",
            "Soma total: 21\n"
          ]
        }
      ]
    },
    {
      "cell_type": "code",
      "source": [
        "#caixa, só pode tentar entrar até 3 vezes, se depois das 3 n der ele n pode mais entrar\n",
        "tentativa = 0\n",
        "\n",
        "print(\"para entrar na conta do banco, precisa preencher a senha\")\n",
        "senha = int(input('senha: '))\n",
        "tentativa = tentativa + 1\n",
        "while tentativa < 3:\n",
        "  if senha != 1234:\n",
        "    print('senha incorreta, tente novamente.')\n",
        "    senha = int(input('senha: '))\n",
        "\n",
        "    tentativa = tentativa + 1\n",
        "  else:\n",
        "    print('senha correta, vc conseguiu entrar.')\n",
        "    tentativa = tentativa + 3\n",
        "if senha != 1234:\n",
        "  print('Você ultrapassou a quantidade de tentativas, conta bloqueada.')"
      ],
      "metadata": {
        "colab": {
          "base_uri": "https://localhost:8080/"
        },
        "id": "pH64HuqzU5hG",
        "outputId": "7bab4f90-0fbb-4be1-b39e-03e36b3bb62c"
      },
      "execution_count": 1,
      "outputs": [
        {
          "output_type": "stream",
          "name": "stdout",
          "text": [
            "para entrar na conta do banco, precisa preencher a senha\n",
            "senha: 1234\n",
            "senha correta, vc conseguiu entrar.\n"
          ]
        }
      ]
    }
  ]
}