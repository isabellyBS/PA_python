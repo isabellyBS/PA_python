{
  "nbformat": 4,
  "nbformat_minor": 0,
  "metadata": {
    "colab": {
      "provenance": [],
      "authorship_tag": "ABX9TyMsRqIvnteVn6CuWveVuUmw",
      "include_colab_link": true
    },
    "kernelspec": {
      "name": "python3",
      "display_name": "Python 3"
    },
    "language_info": {
      "name": "python"
    }
  },
  "cells": [
    {
      "cell_type": "markdown",
      "metadata": {
        "id": "view-in-github",
        "colab_type": "text"
      },
      "source": [
        "<a href=\"https://colab.research.google.com/github/isabellyBS/PA_python/blob/main/Aula_PA/exercicios_25_08.ipynb\" target=\"_parent\"><img src=\"https://colab.research.google.com/assets/colab-badge.svg\" alt=\"Open In Colab\"/></a>"
      ]
    },
    {
      "cell_type": "markdown",
      "source": [
        "#**Exercícios com for, while, listas, strings e dicionários**\n",
        "\n",
        "\n",
        "\n",
        "---\n",
        "\n",
        "\n",
        "1. Soma dos números de uma lista\n",
        "\n",
        "Dada a lista numeros = [3, 7, 2, 8, 10], use um for para calcular a soma de todos os elementos.\n",
        "\n",
        "\n",
        "---\n",
        "\n",
        "\n",
        "2. Contagem de vogais em uma string\n",
        "\n",
        "Peça uma palavra ao usuário e use um for para contar quantas vogais (a, e, i, o, u) existem.\n",
        "\n",
        "\n",
        "---\n",
        "\n",
        "\n",
        "3. Inverter lista usando while\n",
        "\n",
        "Dada a lista nomes = [\"Ana\", \"João\", \"Carlos\", \"Maria\"], use um while para inverter a ordem dos elementos (sem usar reverse() ou slicing).\n",
        "\n",
        "\n",
        "---\n",
        "\n",
        "\n",
        "4. Maior número em uma lista\n",
        "\n",
        "Escreva um programa que percorra uma lista de inteiros e encontre o maior valor.\n",
        "\n",
        "\n",
        "---\n",
        "\n",
        "\n",
        "5. Remover elementos repetidos de uma lista\n",
        "\n",
        "Usando um for, percorra a lista valores = [1, 2, 2, 3, 4, 4, 5] e crie uma nova lista apenas com elementos únicos.\n",
        "\n",
        "\n",
        "---\n",
        "\n",
        "\n",
        "6. Verificar se palavra é palíndromo\n",
        "\n",
        "Peça uma palavra ao usuário e use while ou for para verificar se ela é igual de frente para trás (ex.: \"arara\").\n",
        "\n",
        "\n",
        "---\n",
        "\n",
        "\n",
        "7. Contagem regressiva com while\n",
        "\n",
        "Peça ao usuário um número e faça uma contagem regressiva até 0.\n",
        "\n",
        "\n",
        "---\n",
        "\n",
        "\n",
        "8. Percorrendo um dicionário de notas\n",
        "\n",
        "Dado o dicionário notas = {\"Ana\": 8, \"Carlos\": 7, \"Maria\": 10}, use um for para exibir cada aluno com sua nota.\n",
        "\n",
        "\n",
        "---\n",
        "\n",
        "\n",
        "9. Filtrar números pares de uma lista\n",
        "\n",
        "Dada a lista numeros = [10, 21, 32, 43, 54], use um for para criar uma nova lista contendo apenas os pares.\n",
        "\n",
        "\n",
        "---\n",
        "\n",
        "\n",
        "10. Contador de palavras em uma frase\n",
        "\n",
        "Peça ao usuário uma frase, divida em palavras (split()) e use um dicionário para contar quantas vezes cada palavra aparece.\n",
        "\n",
        "---"
      ],
      "metadata": {
        "id": "oQa7AVMdbQr3"
      }
    },
    {
      "cell_type": "code",
      "execution_count": null,
      "metadata": {
        "colab": {
          "base_uri": "https://localhost:8080/"
        },
        "id": "p44rCosGbCqA",
        "outputId": "177f119f-33cd-40bb-a8dc-1173e02c44c4"
      },
      "outputs": [
        {
          "output_type": "stream",
          "name": "stdout",
          "text": [
            "3\n",
            "10\n",
            "12\n",
            "20\n",
            "30\n"
          ]
        }
      ],
      "source": [
        "#1\n",
        "soma=0\n",
        "numeros = [3, 7, 2, 8, 10]\n",
        "for i in range(5):\n",
        "  soma += numeros[i]\n",
        "  print(soma)"
      ]
    },
    {
      "cell_type": "code",
      "source": [
        "#2\n",
        "soma = 0\n",
        "lista=['a','e','i','o','u']\n",
        "palavra = str(input('Digite uma palavra(tudo minúsculo): '))\n",
        "for i in range(5):\n",
        "  soma += palavra.count(lista[i])\n",
        "print(\"Essa palavra tem \",soma,\"vogais.\")"
      ],
      "metadata": {
        "colab": {
          "base_uri": "https://localhost:8080/"
        },
        "id": "IAouF66JeT2y",
        "outputId": "8f971862-4d1b-4c0a-9626-204412dd2c17"
      },
      "execution_count": 2,
      "outputs": [
        {
          "output_type": "stream",
          "name": "stdout",
          "text": [
            "Digite uma palavra(tudo minúsculo): palavra\n",
            "Essa palavra tem  3 vogais.\n"
          ]
        }
      ]
    },
    {
      "cell_type": "code",
      "source": [
        "#3\n",
        "nomes = [\"Ana\", \"João\", \"Carlos\", \"Maria\"]\n",
        "i = len(nomes) - 1\n",
        "while i >= 0:\n",
        "  print(nomes[i])\n",
        "  i -= 1"
      ],
      "metadata": {
        "colab": {
          "base_uri": "https://localhost:8080/"
        },
        "id": "pU09QKyplq1m",
        "outputId": "47e58793-e800-4ad1-b82f-792f975eaf33"
      },
      "execution_count": 3,
      "outputs": [
        {
          "output_type": "stream",
          "name": "stdout",
          "text": [
            "Maria\n",
            "Carlos\n",
            "João\n",
            "Ana\n"
          ]
        }
      ]
    },
    {
      "cell_type": "code",
      "source": [
        "# 4\n",
        "numeros = [65,4765,5,213,4584,55]\n",
        "maior = numeros[0]\n",
        "for num in numeros:\n",
        "  if num > maior:\n",
        "    maior = num\n",
        "print('O maior número é', maior)"
      ],
      "metadata": {
        "id": "3SSWzF3EoPtK",
        "colab": {
          "base_uri": "https://localhost:8080/"
        },
        "outputId": "846c9113-a42e-425f-d400-68084d9e6ab2"
      },
      "execution_count": 12,
      "outputs": [
        {
          "output_type": "stream",
          "name": "stdout",
          "text": [
            "O maior número é 68\n"
          ]
        }
      ]
    },
    {
      "cell_type": "code",
      "source": [
        "#5\n",
        "valores = [1, 2, 2, 3, 4, 4, 5]\n",
        "sem=[]\n",
        "for valor in valores:\n",
        "  if valor not in sem:\n",
        "    sem.append(valor)\n",
        "print(sem)"
      ],
      "metadata": {
        "id": "ySjRM8nLsxch",
        "colab": {
          "base_uri": "https://localhost:8080/"
        },
        "outputId": "a1dd3237-f257-4af6-b3b3-480b29b27c39"
      },
      "execution_count": 25,
      "outputs": [
        {
          "output_type": "stream",
          "name": "stdout",
          "text": [
            "[1, 2, 3, 4, 5]\n"
          ]
        }
      ]
    },
    {
      "cell_type": "code",
      "source": [
        "#6\n",
        "palavra=str(input(\"Digite uma palavra: \"))\n",
        "arvalap=palavra[::-1]\n",
        "if palavra==arvalap:\n",
        "  print(\"É um palíndromo!\")\n",
        "else:\n",
        "  print(\"Não é igual quando o contrário...\")\n",
        "\n",
        "  #Com for\n",
        "\n",
        "i = len(palavra) - 1\n",
        "palindromo = True\n",
        "for letra in palavra:\n",
        "  if letra != palavra[i]:\n",
        "    palindromo = False\n",
        "  i -= 1\n",
        "\n",
        "if palindromo:\n",
        "  print('A palavra É um palíndromo')\n",
        "else:\n",
        "  print('A palavra NÃO é um palíndromo')\n"
      ],
      "metadata": {
        "id": "TWw207tgxQ2E",
        "colab": {
          "base_uri": "https://localhost:8080/"
        },
        "outputId": "7dbfa6d3-590f-42ce-ac39-21d48b079622"
      },
      "execution_count": 39,
      "outputs": [
        {
          "output_type": "stream",
          "name": "stdout",
          "text": [
            "Digite uma palavra: Paralelepipedo\n",
            "Não é igual quando o contrário...\n",
            "A palavra NÃO é um palíndromo\n"
          ]
        }
      ]
    },
    {
      "cell_type": "code",
      "source": [
        "#7\n",
        "numero=int(input('Digite uma número inteiro para a contagem regressiva dele até 0: '))\n",
        "if numero>0:\n",
        "  print(numero)\n",
        "  while numero != 0:\n",
        "    print(numero - 1)\n",
        "    numero = numero -1\n",
        "elif numero < 0:\n",
        "  print(numero)\n",
        "  while numero != 0:\n",
        "    print(numero + 1)\n",
        "    numero = numero + 1\n",
        "else:\n",
        "  print(0)"
      ],
      "metadata": {
        "colab": {
          "base_uri": "https://localhost:8080/"
        },
        "id": "wnQgOY-NxR7z",
        "outputId": "4055debb-2dec-4742-9aaa-b5d606b334cf"
      },
      "execution_count": null,
      "outputs": [
        {
          "output_type": "stream",
          "name": "stdout",
          "text": [
            "Digite uma número inteiro para a contagem regressiva dele até 0: -5\n",
            "-5\n",
            "-4\n",
            "-3\n",
            "-2\n",
            "-1\n",
            "0\n"
          ]
        }
      ]
    },
    {
      "cell_type": "code",
      "source": [
        "#8\n",
        "notas = {\"Ana\": 8, \"Carlos\": 7, \"Maria\": 10}\n",
        "for pessoas in notas:\n",
        "  print(pessoas, notas[pessoas])"
      ],
      "metadata": {
        "id": "kfylD-oExSyc",
        "colab": {
          "base_uri": "https://localhost:8080/"
        },
        "outputId": "36581f51-6e51-4510-8c2d-cdfd0a78eb8e"
      },
      "execution_count": 31,
      "outputs": [
        {
          "output_type": "stream",
          "name": "stdout",
          "text": [
            "Ana 8\n",
            "Carlos 7\n",
            "Maria 10\n"
          ]
        }
      ]
    },
    {
      "cell_type": "code",
      "source": [
        "#9\n",
        "numeros = [10, 21, 32, 43, 54]\n",
        "pares = []\n",
        "for numero in numeros:\n",
        "  if numero%2 == 0:\n",
        "    pares.append(numero)\n",
        "print(pares)"
      ],
      "metadata": {
        "id": "7QI_L_-ttzhe",
        "colab": {
          "base_uri": "https://localhost:8080/"
        },
        "outputId": "541d24fb-bf23-4e48-990c-b6100925816d"
      },
      "execution_count": 32,
      "outputs": [
        {
          "output_type": "stream",
          "name": "stdout",
          "text": [
            "[10, 32, 54]\n"
          ]
        }
      ]
    },
    {
      "cell_type": "code",
      "source": [
        "#10\n",
        "#Divida em palavras (split()) e use um dicionário para contar quantas vezes cada palavra aparece.\n",
        "\n",
        "frase = str(input('Digite uma frase: '))\n",
        "PalavraFrase=frase.split()\n",
        "dicionário={}\n",
        "for palavra in PalavraFrase:\n",
        "  if palavra in dicionário:\n",
        "    dicionário[palavra] += 1\n",
        "  else:\n",
        "    dicionário[palavra] = 1\n",
        "\n",
        "print(dicionário)\n",
        "for palavra, contagem in dicionário.items():\n",
        "  print(f\"A palavra {palavra} aparece {contagem} vezes.\")"
      ],
      "metadata": {
        "colab": {
          "base_uri": "https://localhost:8080/"
        },
        "id": "evKuF_FOvlV8",
        "outputId": "7d8ed652-fc44-47df-b79e-7242cd1aed5c"
      },
      "execution_count": 30,
      "outputs": [
        {
          "output_type": "stream",
          "name": "stdout",
          "text": [
            "Digite uma frase: contador para para contar contar contar palavra na na na na frase frase frase frase frase\n",
            "{'contador': 1, 'para': 2, 'contar': 3, 'palavra': 1, 'na': 4, 'frase': 5}\n",
            "A palavra contador aparece 1 vezes.\n",
            "A palavra para aparece 2 vezes.\n",
            "A palavra contar aparece 3 vezes.\n",
            "A palavra palavra aparece 1 vezes.\n",
            "A palavra na aparece 4 vezes.\n",
            "A palavra frase aparece 5 vezes.\n"
          ]
        }
      ]
    }
  ]
}