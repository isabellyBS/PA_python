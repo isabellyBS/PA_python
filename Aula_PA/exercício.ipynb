{
  "nbformat": 4,
  "nbformat_minor": 0,
  "metadata": {
    "colab": {
      "provenance": [],
      "authorship_tag": "ABX9TyOf/XZRgAZAxMQT+iRlGpnn",
      "include_colab_link": true
    },
    "kernelspec": {
      "name": "python3",
      "display_name": "Python 3"
    },
    "language_info": {
      "name": "python"
    }
  },
  "cells": [
    {
      "cell_type": "markdown",
      "metadata": {
        "id": "view-in-github",
        "colab_type": "text"
      },
      "source": [
        "<a href=\"https://colab.research.google.com/github/isabellyBS/PA_python/blob/main/Aula_PA/exerc%C3%ADcio.ipynb\" target=\"_parent\"><img src=\"https://colab.research.google.com/assets/colab-badge.svg\" alt=\"Open In Colab\"/></a>"
      ]
    },
    {
      "cell_type": "code",
      "execution_count": null,
      "metadata": {
        "colab": {
          "base_uri": "https://localhost:8080/"
        },
        "id": "SBQhD2Zq-sOJ",
        "outputId": "2cf1ff10-26ac-428b-ee46-db62cff37756"
      },
      "outputs": [
        {
          "output_type": "stream",
          "name": "stdout",
          "text": [
            "primeiro número 4\n",
            "segundo número 9\n",
            "a soma desses números é 13.0\n"
          ]
        }
      ],
      "source": [
        "#entrada\n",
        "num = float(input('primeiro número '))\n",
        "number = float(input('segundo número '))\n",
        "\n",
        "#processamento\n",
        "soma= num+number\n",
        "\n",
        "#saida\n",
        "print ('a soma desses números é', soma)"
      ]
    },
    {
      "cell_type": "code",
      "source": [
        "nu = int(input('fist number '))\n",
        "numb = int(input('second number '))\n",
        "\n",
        "jota = nu * numb\n",
        "\n",
        "print ('um multiplicando o outro é', jota)"
      ],
      "metadata": {
        "colab": {
          "base_uri": "https://localhost:8080/",
          "height": 211
        },
        "id": "RW2MYLHGAArR",
        "outputId": "b52c5cf2-671f-4f78-ef9b-ab96d4883c03"
      },
      "execution_count": null,
      "outputs": [
        {
          "name": "stdout",
          "output_type": "stream",
          "text": [
            "fist number 3\n",
            "second number 9\n"
          ]
        },
        {
          "output_type": "error",
          "ename": "TypeError",
          "evalue": "'tuple' object is not callable",
          "traceback": [
            "\u001b[0;31m---------------------------------------------------------------------------\u001b[0m",
            "\u001b[0;31mTypeError\u001b[0m                                 Traceback (most recent call last)",
            "\u001b[0;32m<ipython-input-17-c60608d81457>\u001b[0m in \u001b[0;36m<cell line: 0>\u001b[0;34m()\u001b[0m\n\u001b[1;32m      4\u001b[0m \u001b[0mjota\u001b[0m \u001b[0;34m=\u001b[0m \u001b[0mnu\u001b[0m \u001b[0;34m*\u001b[0m \u001b[0mnumb\u001b[0m\u001b[0;34m\u001b[0m\u001b[0;34m\u001b[0m\u001b[0m\n\u001b[1;32m      5\u001b[0m \u001b[0;34m\u001b[0m\u001b[0m\n\u001b[0;32m----> 6\u001b[0;31m \u001b[0mprint\u001b[0m \u001b[0;34m(\u001b[0m\u001b[0;34m'um multiplicando o outro é'\u001b[0m\u001b[0;34m,\u001b[0m \u001b[0mjota\u001b[0m\u001b[0;34m)\u001b[0m\u001b[0;34m\u001b[0m\u001b[0;34m\u001b[0m\u001b[0m\n\u001b[0m",
            "\u001b[0;31mTypeError\u001b[0m: 'tuple' object is not callable"
          ]
        }
      ]
    }
  ]
}