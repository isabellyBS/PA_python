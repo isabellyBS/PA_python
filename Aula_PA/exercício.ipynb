{
  "nbformat": 4,
  "nbformat_minor": 0,
  "metadata": {
    "colab": {
      "provenance": [],
      "authorship_tag": "ABX9TyOq9izWvMU+8WT2AZVDaXYX",
      "include_colab_link": true
    },
    "kernelspec": {
      "name": "python3",
      "display_name": "Python 3"
    },
    "language_info": {
      "name": "python"
    }
  },
  "cells": [
    {
      "cell_type": "markdown",
      "metadata": {
        "id": "view-in-github",
        "colab_type": "text"
      },
      "source": [
        "<a href=\"https://colab.research.google.com/github/isabellyBS/PA_python/blob/main/Aula_PA/exerc%C3%ADcio.ipynb\" target=\"_parent\"><img src=\"https://colab.research.google.com/assets/colab-badge.svg\" alt=\"Open In Colab\"/></a>"
      ]
    },
    {
      "cell_type": "code",
      "execution_count": null,
      "metadata": {
        "colab": {
          "base_uri": "https://localhost:8080/"
        },
        "id": "SBQhD2Zq-sOJ",
        "outputId": "2cf1ff10-26ac-428b-ee46-db62cff37756"
      },
      "outputs": [
        {
          "output_type": "stream",
          "name": "stdout",
          "text": [
            "primeiro número 4\n",
            "segundo número 9\n",
            "a soma desses números é 13.0\n"
          ]
        }
      ],
      "source": [
        "#entrada\n",
        "num = float(input('primeiro número '))\n",
        "number = float(input('segundo número '))\n",
        "\n",
        "#processamento\n",
        "soma= num+number\n",
        "\n",
        "#saida\n",
        "print ('a soma desses números é', soma)"
      ]
    },
    {
      "cell_type": "code",
      "source": [
        "a = int(input('fist number '))\n",
        "b = int(input('second number '))\n",
        "\n",
        "jota = a * b\n",
        "\n",
        "print ('um multiplicando o outro é', jota)"
      ],
      "metadata": {
        "colab": {
          "base_uri": "https://localhost:8080/"
        },
        "id": "RW2MYLHGAArR",
        "outputId": "20f75533-911b-4d43-aa69-7e20fa200944"
      },
      "execution_count": 1,
      "outputs": [
        {
          "output_type": "stream",
          "name": "stdout",
          "text": [
            "fist number 3\n",
            "second number 9\n",
            "um multiplicando o outro é 27\n"
          ]
        }
      ]
    },
    {
      "cell_type": "code",
      "source": [
        "#Divisão\n",
        "'DIVISÃO'\n",
        "x = float(input('Qual será o número enteiro? '))\n",
        "y = float(input('Será dividido por que número? '))\n",
        "\n",
        "z = x/y\n",
        "\n",
        "print ('A divisão resulta em ', z)"
      ],
      "metadata": {
        "colab": {
          "base_uri": "https://localhost:8080/"
        },
        "id": "kqLSaene61vA",
        "outputId": "4b21f68a-d51c-4939-834c-6eecd4328814"
      },
      "execution_count": 4,
      "outputs": [
        {
          "output_type": "stream",
          "name": "stdout",
          "text": [
            "Qual será o número enteiro? 50\n",
            "Será dividido por que número? 9\n",
            "A divisão resulta em  5.555555555555555\n"
          ]
        }
      ]
    },
    {
      "cell_type": "code",
      "source": [
        "i = float(input('número original '))\n",
        "s = float(input('quanto será subtraido '))\n",
        "\n",
        "a = i - s\n",
        "\n",
        "print ('resulta', a)"
      ],
      "metadata": {
        "colab": {
          "base_uri": "https://localhost:8080/"
        },
        "id": "2I_UyQSC8B6Y",
        "outputId": "84948f7c-c985-4809-d77d-e875b68d4854"
      },
      "execution_count": 5,
      "outputs": [
        {
          "output_type": "stream",
          "name": "stdout",
          "text": [
            "número original 3\n",
            "quanto será subtraido -5\n",
            "resulta 8.0\n"
          ]
        }
      ]
    }
  ]
}