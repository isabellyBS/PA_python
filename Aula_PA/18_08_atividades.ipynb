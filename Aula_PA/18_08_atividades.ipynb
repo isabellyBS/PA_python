{
  "nbformat": 4,
  "nbformat_minor": 0,
  "metadata": {
    "colab": {
      "provenance": [],
      "authorship_tag": "ABX9TyMoaBbmeX6k1a9M3KQ9RUTa",
      "include_colab_link": true
    },
    "kernelspec": {
      "name": "python3",
      "display_name": "Python 3"
    },
    "language_info": {
      "name": "python"
    }
  },
  "cells": [
    {
      "cell_type": "markdown",
      "metadata": {
        "id": "view-in-github",
        "colab_type": "text"
      },
      "source": [
        "<a href=\"https://colab.research.google.com/github/isabellyBS/PA_python/blob/main/Aula_PA/18_08_atividades.ipynb\" target=\"_parent\"><img src=\"https://colab.research.google.com/assets/colab-badge.svg\" alt=\"Open In Colab\"/></a>"
      ]
    },
    {
      "cell_type": "markdown",
      "source": [
        "Atividade de laços de repetição:\n",
        "https://github.com/Marciobarrosetec/Aula_PA/blob/main/la_os_de_repeticao.ipynb"
      ],
      "metadata": {
        "id": "TFzRfOszc5SL"
      }
    },
    {
      "cell_type": "code",
      "execution_count": 11,
      "metadata": {
        "colab": {
          "base_uri": "https://localhost:8080/"
        },
        "id": "HgWpvYYbaAi5",
        "outputId": "c9302142-bd4d-4e13-a5ca-984f36ed1172"
      },
      "outputs": [
        {
          "output_type": "stream",
          "name": "stdout",
          "text": [
            "1\n",
            "3\n",
            "5\n",
            "7\n",
            "9\n",
            "11\n",
            "13\n",
            "15\n",
            "17\n",
            "19\n",
            "21\n",
            "23\n",
            "25\n",
            "27\n",
            "29\n"
          ]
        }
      ],
      "source": [
        "#1) MOSTRAR TODOS OS NÚMEROS ÍMPARES DE 1 A 30\n",
        "for i in range(1,31):\n",
        "  if i % 2 == 1:\n",
        "    print(i)"
      ]
    },
    {
      "cell_type": "code",
      "source": [
        "#2.1) Escreva um algoritmo que leia 20 valores inteiros e ao final exiba:\n",
        "#a) a soma dos números positivos;\n",
        "#b) a quantidade de valores negativos.\n",
        "lista=[]\n",
        "soma=0\n",
        "contar=0\n",
        "lista.clear\n",
        "lista #como ficou a lista\n",
        "for i in range(1,21):\n",
        "  lista.append(int(input('')))\n",
        "print(lista)\n",
        "\n",
        "#print(sum(lista))\n",
        "\n",
        "print('Soma dos números positivos:')\n",
        "for numero in lista:\n",
        "  if numero > 0:\n",
        "      soma += numero\n",
        "print(soma)\n",
        "\n",
        "print('Quantidade de números negativos')\n",
        "for numero in lista:\n",
        "  if numero < 0:\n",
        "    contar += 1\n",
        "print(contar)"
      ],
      "metadata": {
        "colab": {
          "base_uri": "https://localhost:8080/"
        },
        "id": "aD2TCCQ6dNNR",
        "outputId": "7642928a-9c98-48e4-8e81-5b6a52662c3b"
      },
      "execution_count": 64,
      "outputs": [
        {
          "output_type": "stream",
          "name": "stdout",
          "text": [
            "-1\n",
            "1\n",
            "-2\n",
            "2\n",
            "-3\n",
            "3\n",
            "-4\n",
            "4\n",
            "-5\n",
            "5\n",
            "-6\n",
            "6\n",
            "-7\n",
            "7\n",
            "-8\n",
            "8\n",
            "-9\n",
            "9\n",
            "-10\n",
            "10\n",
            "[-1, 1, -2, 2, -3, 3, -4, 4, -5, 5, -6, 6, -7, 7, -8, 8, -9, 9, -10, 10]\n",
            "Soma dos números positivos:\n",
            "55\n",
            "Quantidade de números negativos\n",
            "10\n"
          ]
        }
      ]
    },
    {
      "cell_type": "code",
      "source": [
        " #2) CONTADOR DE UM NÚMERO INCIAL E UM NÚMERO FINAL DIGITADOS PELO USUÁRIO\n",
        "\n",
        "inicio = int(input('Qual número você deseja que a sequência comece? '))\n",
        "fim = int(input('E que termine? '))\n",
        "\n",
        "for i in range(inicio , fim+1):\n",
        "  print(i)"
      ],
      "metadata": {
        "colab": {
          "base_uri": "https://localhost:8080/"
        },
        "id": "fz-SyBQydxcb",
        "outputId": "34b2f2ba-0c53-48ee-c1a0-dbad0027ca05"
      },
      "execution_count": 10,
      "outputs": [
        {
          "output_type": "stream",
          "name": "stdout",
          "text": [
            "Qual número você deseja que a sequência comece? 2\n",
            "E que termine? 22\n",
            "2\n",
            "3\n",
            "4\n",
            "5\n",
            "6\n",
            "7\n",
            "8\n",
            "9\n",
            "10\n",
            "11\n",
            "12\n",
            "13\n",
            "14\n",
            "15\n",
            "16\n",
            "17\n",
            "18\n",
            "19\n",
            "20\n",
            "21\n",
            "22\n"
          ]
        }
      ]
    },
    {
      "cell_type": "code",
      "source": [
        "#3) SOME TODOS OS NÚMEROS DE 1 A 10\n",
        "soma=0\n",
        "for i in range(1,11):\n",
        "  print(f\"{soma}+{i}={soma+i}\")\n",
        "  soma=soma+i"
      ],
      "metadata": {
        "colab": {
          "base_uri": "https://localhost:8080/"
        },
        "id": "D6zmRaYrdyqG",
        "outputId": "3e4ac477-7e28-4845-d200-084404d6f507"
      },
      "execution_count": 27,
      "outputs": [
        {
          "output_type": "stream",
          "name": "stdout",
          "text": [
            "0+1=1\n",
            "1+2=3\n",
            "3+3=6\n",
            "6+4=10\n",
            "10+5=15\n",
            "15+6=21\n",
            "21+7=28\n",
            "28+8=36\n",
            "36+9=45\n",
            "45+10=55\n"
          ]
        }
      ]
    },
    {
      "cell_type": "code",
      "source": [
        "#4) USANDO O WHILE PERGUNTE AO USUÁRIO QUAL A MELHOR ESCOLA DE RIBEIRÃO PIRES, ENQUANTO A PESSOA NÃO DIGITAR \"ETEC MCM\", ENQUANTO NÃO DIGITA CERTO ELE VAI INFORMANDO QUE O USUÁRIO ERROU\n",
        "\n",
        "escolha=\"escola\"\n",
        "while escolha != \"ETEC MCM\":\n",
        "  escolha = str(input(\"QUAL A MELHOR ESCOLA DE RIBEIRÃO PIRES(digite tudo maiúsculo)? \"))"
      ],
      "metadata": {
        "colab": {
          "base_uri": "https://localhost:8080/"
        },
        "id": "GvPdNgKgdy2J",
        "outputId": "706406ed-2c3e-40dd-abf6-3e7a5fe24180"
      },
      "execution_count": 29,
      "outputs": [
        {
          "name": "stdout",
          "output_type": "stream",
          "text": [
            "QUAL A MELHOR ESCOLA DE RIBEIRÃO PIRES(digite tudo maiúsculo)? h\n",
            "QUAL A MELHOR ESCOLA DE RIBEIRÃO PIRES(digite tudo maiúsculo)? s\n",
            "QUAL A MELHOR ESCOLA DE RIBEIRÃO PIRES(digite tudo maiúsculo)? \n",
            "QUAL A MELHOR ESCOLA DE RIBEIRÃO PIRES(digite tudo maiúsculo)? F\n",
            "QUAL A MELHOR ESCOLA DE RIBEIRÃO PIRES(digite tudo maiúsculo)? JH\n",
            "QUAL A MELHOR ESCOLA DE RIBEIRÃO PIRES(digite tudo maiúsculo)? ED\n",
            "QUAL A MELHOR ESCOLA DE RIBEIRÃO PIRES(digite tudo maiúsculo)? ETEC\n",
            "QUAL A MELHOR ESCOLA DE RIBEIRÃO PIRES(digite tudo maiúsculo)? ETEC MCM\n"
          ]
        }
      ]
    },
    {
      "cell_type": "code",
      "source": [
        "#5) Receba um número, verifique se é diferente de zero, caso seja diferente,continue retornando falso até que ele digite esse valor\n",
        "num = int(input(\"Digite um número diferente de 0: \"))\n",
        "while num !=0:\n",
        "  num = int(input(\"Falso \"))"
      ],
      "metadata": {
        "colab": {
          "base_uri": "https://localhost:8080/"
        },
        "id": "EJc0LjUIdzAA",
        "outputId": "cd757d95-13a3-4ead-9ffb-79fbab3c15b2"
      },
      "execution_count": 37,
      "outputs": [
        {
          "name": "stdout",
          "output_type": "stream",
          "text": [
            "Digite um número diferente de 0: 5\n",
            "Falso 74\n",
            "Falso 4\n",
            "Falso 8\n",
            "Falso 7\n",
            "Falso 3\n",
            "Falso 0\n"
          ]
        }
      ]
    },
    {
      "cell_type": "code",
      "source": [
        "#6) SOMAR NÚMEROS ATÉ QUE O USUÁRIO DIGITE 0\n",
        "soma = 0\n",
        "\n",
        "num = int(input(\"Digite um número(0 para sair):\"))\n",
        "while num !=0:\n",
        "  soma += num\n",
        "  num = int(input(\"Digite um número(0 para sair):\"))\n",
        "print('Soma total:', soma)"
      ],
      "metadata": {
        "colab": {
          "base_uri": "https://localhost:8080/"
        },
        "id": "74D1Mx1gdzJY",
        "outputId": "fe6675dd-6ae1-47c5-a3ef-a2b3acdd877d"
      },
      "execution_count": 39,
      "outputs": [
        {
          "output_type": "stream",
          "name": "stdout",
          "text": [
            "Digite um número(0 para sair):4\n",
            "Digite um número(0 para sair):5\n",
            "Digite um número(0 para sair):7\n",
            "Digite um número(0 para sair):8\n",
            "Digite um número(0 para sair):0\n",
            "Soma total: 24\n"
          ]
        }
      ]
    },
    {
      "cell_type": "code",
      "source": [
        "#7) CRIE UM MENU DE OPÇÕES, COM 3 OPÇÕES,E ELE VAI SOLICITANDO NOVAMENTE A OPÇÕES ATÉ QUE O USUÁRIO ESCOLHA A OPÇÃO SAIR\n",
        "escolha=\"continuar\"\n",
        "\n",
        "while escolha != \"SAIR\":\n",
        "  print('Digite uma das 3 opções:')\n",
        "  escolha=str(input('''PERMANECER  CONTINUAR SAIR    '''))"
      ],
      "metadata": {
        "colab": {
          "base_uri": "https://localhost:8080/"
        },
        "id": "KYIicql-dzST",
        "outputId": "ea75cde3-2e8a-4feb-9af6-d2d70a32d969"
      },
      "execution_count": 42,
      "outputs": [
        {
          "name": "stdout",
          "output_type": "stream",
          "text": [
            "Digite uma das 3 opções:\n",
            "PERMANECER  CONTINUAR SAIR    paremafndf\n",
            "Digite uma das 3 opções:\n",
            "PERMANECER  CONTINUAR SAIR    sldfskjjf\n",
            "Digite uma das 3 opções:\n",
            "PERMANECER  CONTINUAR SAIR    sair\n",
            "Digite uma das 3 opções:\n",
            "PERMANECER  CONTINUAR SAIR    SAIR\n"
          ]
        }
      ]
    },
    {
      "cell_type": "code",
      "source": [
        "#8) Faça um programa que mostre os n termos da Série da imagem"
      ],
      "metadata": {
        "id": "BuBrhW7odzZM"
      },
      "execution_count": null,
      "outputs": []
    }
  ]
}