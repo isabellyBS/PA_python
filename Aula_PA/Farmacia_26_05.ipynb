{
  "nbformat": 4,
  "nbformat_minor": 0,
  "metadata": {
    "colab": {
      "provenance": [],
      "authorship_tag": "ABX9TyOCRyJ4CzEXKQFk1rs8YX2R",
      "include_colab_link": true
    },
    "kernelspec": {
      "name": "python3",
      "display_name": "Python 3"
    },
    "language_info": {
      "name": "python"
    }
  },
  "cells": [
    {
      "cell_type": "markdown",
      "metadata": {
        "id": "view-in-github",
        "colab_type": "text"
      },
      "source": [
        "<a href=\"https://colab.research.google.com/github/isabellyBS/PA_python/blob/main/Aula_PA/Farmacia_26_05.ipynb\" target=\"_parent\"><img src=\"https://colab.research.google.com/assets/colab-badge.svg\" alt=\"Open In Colab\"/></a>"
      ]
    },
    {
      "cell_type": "markdown",
      "source": [
        "**Atividade aula 26/05**\n",
        "\n",
        "Exercício de Algoritmo – IF Simples\n",
        "\n",
        "\n",
        "---\n",
        "\n",
        "Enunciado:\n",
        "\n",
        "Você foi contratado para desenvolver um sistema simples para uma farmácia. O sistema deve ajudar o atendente a aplicar descontos em medicamentos com base na idade do cliente.\n",
        "\n",
        "\n",
        "---\n",
        "\n",
        "Instruções:\n",
        "\n",
        "\n",
        "O programa deve seguir as seguintes regras:\n",
        "\n",
        "    Se a pessoa for menor de 12 anos, o desconto é de 15%.\n",
        "\n",
        "    Se a pessoa tiver entre 60 e 75 anos, o desconto é de 20%.\n",
        "\n",
        "    Se a pessoa tiver mais de 75 anos, o desconto é de 25%.\n",
        "\n",
        "    Para todas as outras idades, não há desconto.\n",
        "\n",
        "Regras para o exercício:\n",
        "\n",
        "*    O valor original do medicamento deve ser informado pelo usuário.\n",
        "\n",
        "*   A idade do cliente também deve ser informada.\n",
        "\n",
        "*   O programa deve mostrar:\n",
        "\n",
        "  *      O valor do desconto (se houver).\n",
        "\n",
        "   *     O valor final a ser pago.\n",
        "\n",
        "\n"
      ],
      "metadata": {
        "id": "xssh1nRAz-MB"
      }
    },
    {
      "cell_type": "code",
      "execution_count": 8,
      "metadata": {
        "colab": {
          "base_uri": "https://localhost:8080/"
        },
        "id": "rEieWBR9zBUG",
        "outputId": "c0673709-ed65-42be-ca8a-58239f2a6191"
      },
      "outputs": [
        {
          "output_type": "stream",
          "name": "stdout",
          "text": [
            "Sua idade em anos:\n",
            "80\n",
            "O preço do medicamento:\n",
            "R$100\n",
            "Você tem um desconto de 25%.\n",
            "O valor a ser pago é de R$ 75.0\n"
          ]
        }
      ],
      "source": [
        "#Entrada\n",
        "print('Sua idade em anos:')\n",
        "idade = int(input(''))\n",
        "print('O preço do medicamento:')\n",
        "preco = float(input('R$'))\n",
        "\n",
        "\n",
        "#Desenvolvimento e saida\n",
        "if idade < 12:\n",
        "  print('Você tem um desconto de 15%.')\n",
        "  print('O valor a ser pago é de R$', preco - (preco / 100 * 15))\n",
        "\n",
        "elif 60 <= idade <= 75:\n",
        "  print('Você tem um desconto de 20%.')\n",
        "  print('O valor a ser pago é de R$', preco - (preco / 100 * 20))\n",
        "\n",
        "elif 75 < idade:\n",
        "  print('Você tem um desconto de 25%.')\n",
        "  print('O valor a ser pago é de R$', preco - (preco / 100 * 25))\n",
        "\n",
        "else:\n",
        "  print('O valor a ser pago é de R$', preco)"
      ]
    }
  ]
}