{
  "nbformat": 4,
  "nbformat_minor": 0,
  "metadata": {
    "colab": {
      "provenance": [],
      "authorship_tag": "ABX9TyNBANDg3T3RLhEr6d7+4qHK",
      "include_colab_link": true
    },
    "kernelspec": {
      "name": "python3",
      "display_name": "Python 3"
    },
    "language_info": {
      "name": "python"
    }
  },
  "cells": [
    {
      "cell_type": "markdown",
      "metadata": {
        "id": "view-in-github",
        "colab_type": "text"
      },
      "source": [
        "<a href=\"https://colab.research.google.com/github/isabellyBS/PA_python/blob/main/Aula_PA/VariaveisEoperadoresL%C3%B3gicos.ipynb\" target=\"_parent\"><img src=\"https://colab.research.google.com/assets/colab-badge.svg\" alt=\"Open In Colab\"/></a>"
      ]
    },
    {
      "cell_type": "code",
      "execution_count": null,
      "metadata": {
        "colab": {
          "base_uri": "https://localhost:8080/"
        },
        "id": "eFgKgIP7VC8_",
        "outputId": "6e45877a-ea08-4b28-d72f-48811f66a655"
      },
      "outputs": [
        {
          "output_type": "stream",
          "name": "stdout",
          "text": [
            "Qual foi a sua nota na primeira prova? 9\n",
            "E na segunda?8.5\n",
            "Então e sua media é de 8.75\n"
          ]
        }
      ],
      "source": [
        "#Entrada\n",
        "p1 = float(input('Qual foi a sua nota na primeira prova? '))\n",
        "p2 = float(input('E na segunda? '))\n",
        "\n",
        "#Processamento\n",
        "med = (p1 + p2) /2\n",
        "\n",
        "#Saída\n",
        "print('Então e sua media é de', med)"
      ]
    },
    {
      "cell_type": "code",
      "source": [
        "#entrada\n",
        "# Como converter °C para °F\n",
        "C = float(input('Quantos graus celsius são? °C '))\n",
        "\n",
        "#processamento\n",
        "#O calculo\n",
        "F = C * 9/5 + 32\n",
        "\n",
        "#Saída\n",
        "#A resposta\n",
        "print('É equivalente à °F', F)"
      ],
      "metadata": {
        "colab": {
          "base_uri": "https://localhost:8080/"
        },
        "id": "-xHCaIhfau9o",
        "outputId": "36c17fca-1f69-4bc9-f77a-106c600f12a3"
      },
      "execution_count": null,
      "outputs": [
        {
          "output_type": "stream",
          "name": "stdout",
          "text": [
            "Quantos graus celsius são? °C 20\n",
            "É equivalente à °F 68.0\n"
          ]
        }
      ]
    },
    {
      "cell_type": "code",
      "source": [
        "#oposto\n",
        "F = float(input('Quantos graus fahrenheits são? °F '))\n",
        "\n",
        "#calculo\n",
        "C = (F-32) * 5/9\n",
        "\n",
        "#resposta\n",
        "print('°F',F,'= °C', C  )"
      ],
      "metadata": {
        "colab": {
          "base_uri": "https://localhost:8080/"
        },
        "id": "1JKLnGHydupa",
        "outputId": "3e860401-5c9f-4304-f868-f3a25e5b2df5"
      },
      "execution_count": 37,
      "outputs": [
        {
          "output_type": "stream",
          "name": "stdout",
          "text": [
            "Quantos graus fahrenheits são? °F 68\n",
            "°F 68.0 = °C 20.0\n"
          ]
        }
      ]
    },
    {
      "cell_type": "code",
      "source": [
        "#Entrada\n",
        "V = float(input('Qual o valor do produto? R$'))\n",
        "Q = float(input('Quantos são? '))\n",
        "\n",
        " #Processamento\n",
        "total = V * Q\n",
        "\n",
        " #Saída\n",
        "print('Então deu R$', total )"
      ],
      "metadata": {
        "colab": {
          "base_uri": "https://localhost:8080/"
        },
        "id": "4odXB9domdA9",
        "outputId": "3494061b-198d-4d80-9d2d-b9571472647b"
      },
      "execution_count": 35,
      "outputs": [
        {
          "output_type": "stream",
          "name": "stdout",
          "text": [
            "Qual o valor do produto? R$9\n",
            "Quantos são? 6\n",
            "Então deu R$ 54.0\n"
          ]
        }
      ]
    }
  ]
}