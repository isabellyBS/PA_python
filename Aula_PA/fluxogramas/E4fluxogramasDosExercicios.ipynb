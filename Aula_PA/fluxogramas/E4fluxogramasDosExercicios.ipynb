{
  "nbformat": 4,
  "nbformat_minor": 0,
  "metadata": {
    "colab": {
      "provenance": [],
      "authorship_tag": "ABX9TyOcKGvRQ29Cpa8V2ad2EJvd",
      "include_colab_link": true
    },
    "kernelspec": {
      "name": "python3",
      "display_name": "Python 3"
    },
    "language_info": {
      "name": "python"
    }
  },
  "cells": [
    {
      "cell_type": "markdown",
      "metadata": {
        "id": "view-in-github",
        "colab_type": "text"
      },
      "source": [
        "<a href=\"https://colab.research.google.com/github/isabellyBS/PA_python/blob/main/Aula_PA/fluxogramas/E4fluxogramasDosExercicios.ipynb\" target=\"_parent\"><img src=\"https://colab.research.google.com/assets/colab-badge.svg\" alt=\"Open In Colab\"/></a>"
      ]
    },
    {
      "cell_type": "markdown",
      "source": [
        "# **Código dos fluxogramas de exercícios.**"
      ],
      "metadata": {
        "id": "iWcrUN2yV0ul"
      }
    },
    {
      "cell_type": "code",
      "source": [
        "## Ecercício 1, carro novo\n",
        "\n",
        "#Entrada\n",
        "valorCarro=float(input('Qual o custo de fábrica do carro? '))\n",
        "\n",
        "#Processamento 1\n",
        "Cimposto=(valorCarro*45/100)+valorCarro\n",
        "#Processamento 2\n",
        "valorFinal=(Cimposto*28/100)+Cimposto\n",
        "\n",
        "#Saída\n",
        "print('Originalmente era', valorCarro)\n",
        "print('Com o valor do imposto tributário de 45% ficou', Cimposto)\n",
        "print('E em cima desse preço mais 28% da distribuição, fez com que o valor final seja', valorFinal)"
      ],
      "metadata": {
        "colab": {
          "base_uri": "https://localhost:8080/"
        },
        "id": "y2o5R6tIa0MJ",
        "outputId": "ee7027a2-242a-47d8-95ef-3b4d641be3c7"
      },
      "execution_count": 3,
      "outputs": [
        {
          "output_type": "stream",
          "name": "stdout",
          "text": [
            "Qual o custo de fábrica do carro? 25000\n",
            "Originalmente era 25000.0\n",
            "Com o valor do imposto tributário de 45% ficou 36250.0\n",
            "e em cima desse preço mais 28% da distribuição, fez com que o valor final seja 46400.0\n"
          ]
        }
      ]
    },
    {
      "cell_type": "code",
      "source": [
        "## Ecercício 2, minutos para horas\n",
        "\n",
        "#Entrada\n",
        "horas=float(input('Quantas horas? '))\n",
        "minutos=float(input('E minutos? '))\n",
        "\n",
        "#Processamento\n",
        "h=minutos/60+horas\n",
        "\n",
        "#Saída\n",
        "print('Isso resulta em', h,'hora/s')"
      ],
      "metadata": {
        "colab": {
          "base_uri": "https://localhost:8080/"
        },
        "id": "eqC2HSEizR5q",
        "outputId": "4f6ca09c-3d94-4720-ea59-e9de0f27aaf5"
      },
      "execution_count": 6,
      "outputs": [
        {
          "output_type": "stream",
          "name": "stdout",
          "text": [
            "Quantas horas? 1\n",
            "E minutos? 32\n",
            "Isso resulta em 1.5333333333333332 hora/s\n"
          ]
        }
      ]
    },
    {
      "cell_type": "code",
      "source": [
        "## Ecercício 3, hora extra\n",
        "\n",
        "#Entrada\n",
        "horas=float(input('Quantas horas de trabalho foram? '))\n",
        "minutos=float(input('E minutos? '))\n",
        "rph=float(input('Recebe quantos reais por hora? '))\n",
        "\n",
        "#Processamento\n",
        "h= minutos/60+horas\n",
        "\n",
        "rs=h*rph\n",
        "\n",
        "total= (rs*70/100)+rs\n",
        "\n",
        "#Saída\n",
        "print('Como foram ',h,'horas de trabalho, seriam ', rs,'reais normalmente, mas por ser horas extra (+70%), são', total, 'reais.')"
      ],
      "metadata": {
        "colab": {
          "base_uri": "https://localhost:8080/"
        },
        "id": "B9xDHwYPzST2",
        "outputId": "5820becd-4163-4ae2-b814-f12481093a74"
      },
      "execution_count": 7,
      "outputs": [
        {
          "output_type": "stream",
          "name": "stdout",
          "text": [
            "Quantas horas de trabalho foram? 15\n",
            "E minutos? 45\n",
            "Recebe quantos reais por hora? 25\n",
            "Como foram  15.75 horas de trabalho, seriam  393.75 reais normalmente, mas por ser horas extra (+70%), são 669.375 reais.\n"
          ]
        }
      ]
    }
  ]
}