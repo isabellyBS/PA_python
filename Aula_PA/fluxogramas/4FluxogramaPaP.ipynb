{
  "nbformat": 4,
  "nbformat_minor": 0,
  "metadata": {
    "colab": {
      "provenance": [],
      "authorship_tag": "ABX9TyOXjDYATEo6OndXU3bJYUYx",
      "include_colab_link": true
    },
    "kernelspec": {
      "name": "python3",
      "display_name": "Python 3"
    },
    "language_info": {
      "name": "python"
    }
  },
  "cells": [
    {
      "cell_type": "markdown",
      "metadata": {
        "id": "view-in-github",
        "colab_type": "text"
      },
      "source": [
        "<a href=\"https://colab.research.google.com/github/isabellyBS/PA_python/blob/main/Aula_PA/fluxogramas/FluxogramaPaP.ipynb\" target=\"_parent\"><img src=\"https://colab.research.google.com/assets/colab-badge.svg\" alt=\"Open In Colab\"/></a>"
      ]
    },
    {
      "cell_type": "markdown",
      "source": [
        "### **Código dos fluxogramas que fora ensinado a fazer passo à passo.**"
      ],
      "metadata": {
        "id": "s3Xw3k-CRnbd"
      }
    },
    {
      "cell_type": "code",
      "source": [
        "## 1 fluxograma, média\n",
        "\n",
        "#Entrada\n",
        "num1=float(input('Primeiro número da média é '))\n",
        "num2=float(input('Já o segundo é '))\n",
        "\n",
        "#Processamento\n",
        "media= (num1+num2)/2\n",
        "\n",
        "#Saída\n",
        "print('A média é de ', media)"
      ],
      "metadata": {
        "colab": {
          "base_uri": "https://localhost:8080/"
        },
        "id": "VdJ4vMxJSOZs",
        "outputId": "974ee8a2-7e2a-4492-dcf6-ffa4270cf5d9"
      },
      "execution_count": 1,
      "outputs": [
        {
          "output_type": "stream",
          "name": "stdout",
          "text": [
            "Primeiro número da média é 3\n",
            "Já o segundo é 5\n",
            "A média é de  4.0\n"
          ]
        }
      ]
    },
    {
      "cell_type": "code",
      "source": [
        "## 2 fluxograma, conversão de moéda\n",
        "\n",
        "# Recebe a cotação do dólar e o valor em reais\n",
        "cotacao_dolar = float(input(\"Digite a cotação do dólar: \"))\n",
        "valor_reais = float(input(\"Digite o valor em reais: \"))\n",
        "\n",
        "# Converte para dólares\n",
        "valor_dolar = valor_reais / cotacao_dolar\n",
        "\n",
        "# Mostra o resultado\n",
        "print(\"O valor em dólares é: $\", valor_dolar)"
      ],
      "metadata": {
        "colab": {
          "base_uri": "https://localhost:8080/"
        },
        "id": "gwupIdu0TQTN",
        "outputId": "d0956fe7-bd82-4b04-b4bb-dc4240a27c81"
      },
      "execution_count": 3,
      "outputs": [
        {
          "output_type": "stream",
          "name": "stdout",
          "text": [
            "Digite a cotação do dólar: 5\n",
            "Digite o valor em reais: 100\n",
            "O valor em dólares é: $ 20.0\n"
          ]
        }
      ]
    },
    {
      "cell_type": "code",
      "source": [
        "## 3 fluxograma, cálculo da comissção\n",
        "\n",
        "# Recebe o preço unitário e a quantidade vendida\n",
        "preco_unitario = float(input(\"Digite o preço unitário da peça: \"))\n",
        "quantidade_vendida = int(input(\"Digite a quantidade vendida: \"))\n",
        "\n",
        "# Calcula o valor total da venda e a comissão\n",
        "valor_total_venda = preco_unitario * quantidade_vendida\n",
        "comissao = valor_total_venda * 0.05\n",
        "\n",
        "# Mostra os resultados\n",
        "print(\"Valor total da venda: R$\", valor_total_venda)\n",
        "print(\"Comissão do vendedor: R$\", comissao)"
      ],
      "metadata": {
        "colab": {
          "base_uri": "https://localhost:8080/"
        },
        "id": "3rEHIaDqUco8",
        "outputId": "4db4ab86-f455-4116-93a9-12c8ee508b65"
      },
      "execution_count": 5,
      "outputs": [
        {
          "output_type": "stream",
          "name": "stdout",
          "text": [
            "Digite o preço unitário da peça: 150\n",
            "Digite a quantidade vendida: 2\n",
            "Valor total da venda: R$ 300.0\n",
            "Comissão do vendedor: R$ 15.0\n"
          ]
        }
      ]
    }
  ]
}
