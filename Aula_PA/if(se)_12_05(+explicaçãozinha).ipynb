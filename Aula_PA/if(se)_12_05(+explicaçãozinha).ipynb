{
  "nbformat": 4,
  "nbformat_minor": 0,
  "metadata": {
    "colab": {
      "provenance": [],
      "authorship_tag": "ABX9TyODfQYOyi4cdch6cgxR/O65",
      "include_colab_link": true
    },
    "kernelspec": {
      "name": "python3",
      "display_name": "Python 3"
    },
    "language_info": {
      "name": "python"
    }
  },
  "cells": [
    {
      "cell_type": "markdown",
      "metadata": {
        "id": "view-in-github",
        "colab_type": "text"
      },
      "source": [
        "<a href=\"https://colab.research.google.com/github/isabellyBS/PA_python/blob/main/Aula_PA/if(se)_12_05(%2Bexplica%C3%A7%C3%A3ozinha).ipynb\" target=\"_parent\"><img src=\"https://colab.research.google.com/assets/colab-badge.svg\" alt=\"Open In Colab\"/></a>"
      ]
    },
    {
      "cell_type": "markdown",
      "source": [
        "**if** (se sim (true), ex, print tal resposta)\n",
        "\n",
        "**else** (se não(false), ex, print isso)\n",
        "\n",
        "**elif** (se if seu false ou o else deu true, põe esse depois para fazer um if de novo(ver exemplo no segundo código))(só vai nele quando o anterior deu errado, como if dar false)\n",
        "\n",
        "\n",
        "(antes do float) int número interiro, float n quebrado, complex n complexo (com E no meio)\n",
        "\n",
        "\n",
        "!= é ≠"
      ],
      "metadata": {
        "id": "E358CWYA6yHe"
      }
    },
    {
      "cell_type": "code",
      "execution_count": null,
      "metadata": {
        "colab": {
          "base_uri": "https://localhost:8080/"
        },
        "id": "NmVfxqCN36Zd",
        "outputId": "d8eb3e89-6951-4be6-e95d-d933348f6778"
      },
      "outputs": [
        {
          "output_type": "stream",
          "name": "stdout",
          "text": [
            "Qual ano você quer ve se é bissexto? 3\n",
            "Não, 3 não é um ano bissexto.\n"
          ]
        }
      ],
      "source": [
        "#X ano é uma ano bissesto?\n",
        "\n",
        "#Entrada\n",
        "ano = int(input('Qual ano você quer ve se é bissexto? '))\n",
        "\n",
        "#Processamento e saída\n",
        "if ano % 4 == 0 and ano % 100 != 0 or ano % 400 == 0:\n",
        "  print(\"Sim,\", ano ,\"é uma ano bissexto!\")\n",
        "\n",
        "else:\n",
        "  print('Não,', ano , \"não é um ano bissexto.\")"
      ]
    },
    {
      "cell_type": "code",
      "source": [
        "#Classificar idade\n",
        "\n",
        "#Entrada\n",
        "idade = int(input(\"A sua idade é... \"))\n",
        "\n",
        "#Processamento + saída\n",
        "if idade < 0:\n",
        "  print('Você ainda não nasceu.')\n",
        "\n",
        "elif idade <= 1:\n",
        "  print('Então você é um bebê.')\n",
        "\n",
        "elif idade <= 13:\n",
        "  print('Então você é uma criança.')\n",
        "\n",
        "elif idade <= 18:\n",
        "  print('Então você é um adolescente.')\n",
        "\n",
        "elif idade <=64:\n",
        "  print('Então você é um adulto.')\n",
        "\n",
        "elif idade >= 64:\n",
        "  print('Então você é um idoso.')"
      ],
      "metadata": {
        "colab": {
          "base_uri": "https://localhost:8080/"
        },
        "id": "nyc84dFv4S37",
        "outputId": "9979c911-c808-4300-c3bf-4650ed8d0535"
      },
      "execution_count": null,
      "outputs": [
        {
          "output_type": "stream",
          "name": "stdout",
          "text": [
            "A sua idade é... 1000\n",
            "Então você é um idoso.\n"
          ]
        }
      ]
    },
    {
      "cell_type": "code",
      "source": [
        "#Número par ou impar\n",
        "\n",
        "#Entrada\n",
        "valor = int(input('Qual número você quer saber se é par ou ímpar?'))\n",
        "\n",
        "#Processamento and saída\n",
        "if valor% 2 ==0:\n",
        "  print('Esse valor é par.')\n",
        "\n",
        "else:\n",
        "  print(\"Esse valor é ÍMpar\")"
      ],
      "metadata": {
        "colab": {
          "base_uri": "https://localhost:8080/"
        },
        "id": "Z1LngCBJ--OU",
        "outputId": "f8b42d0c-debe-45cd-cc42-2f04e0e8eacf"
      },
      "execution_count": null,
      "outputs": [
        {
          "output_type": "stream",
          "name": "stdout",
          "text": [
            "Qual número você quer saber se é par ou ímpar?4\n",
            "Esse valor é par.\n"
          ]
        }
      ]
    },
    {
      "cell_type": "code",
      "source": [
        "#Ver se é um triangulo e se é um triangulo equilatero, escaleno ou isosceles\n",
        "#entrada\n",
        "print('Fale o valor da medida dos 3 lados do triângulo')\n",
        "l1 = float(input('1° lado é '))\n",
        "l2 =float(input('2° lado é '))\n",
        "l3 =float(input('3° lado é '))\n",
        "\n",
        "#Processamento + sahida\n",
        "if l1 + l2 > l3 and l1+l3>l2 and l2+l3>l1:\n",
        "  print('As informações passadas realmente podem formar um triângulo. Mas de qual tipo?')\n",
        "\n",
        "\n",
        "\n",
        "  if l1 == l2 == l3:\n",
        "    print(\"Aaaaah, do tipo equilatero.\")\n",
        "\n",
        "  elif l1 != l2 != l3:\n",
        "    print(\"Aaaaah, do tipo escaleno.\")\n",
        "\n",
        "  elif l1 == l2 != l3 or l2 == l3 != l1 or l1 == l3 != l2:\n",
        "    print(\"Aaaaah, do tipo isosceles.\")\n",
        "\n",
        "else:\n",
        "  print(\"isso nem é um triângulo\")\n",
        "\n"
      ],
      "metadata": {
        "colab": {
          "base_uri": "https://localhost:8080/"
        },
        "id": "3XFHXLWsCXHd",
        "outputId": "e7140ab2-7da4-4cd4-e441-92e4f9aa2182"
      },
      "execution_count": null,
      "outputs": [
        {
          "output_type": "stream",
          "name": "stdout",
          "text": [
            "Fale o valor da medida dos 3 lados do triângulo\n",
            "1° lado é 2\n",
            "2° lado é 2\n",
            "3° lado é 2\n",
            "As informações passadas realmente podem formar um triângulo. Mas de qual tipo?\n",
            "Aaaaah, do tipo equilatero.\n"
          ]
        }
      ]
    },
    {
      "cell_type": "code",
      "source": [
        "#Calcular IMC e falar no que deu\n",
        "#Entrada\n",
        "print('Para saber o seu IMC (índice de massa corporal), precisamos saber:')\n",
        "altura = float(input('a sua altura (em metros, ex: 1.52)'))\n",
        "peso = float(input('o seu peso (em KL, ex: 55)'))\n",
        "\n",
        "#Processamento e sair\n",
        "IMC= peso / altura **2\n",
        "print('O seu IMC é', IMC)\n",
        "\n",
        "if 18.5 > IMC:\n",
        "  print(\"de acordo com ele, você esta abaixo do peso\")\n",
        "\n",
        "elif 18.5 <= IMC and 24.9 >= IMC:\n",
        "  print('de acordo com ele, você esta ideal')\n",
        "\n",
        "elif 25 <= IMC and 29.9 >= IMC:\n",
        "  print('de acordo com ele, você esta sobre peso')\n",
        "\n",
        "elif 30 <= IMC and 34.9 >= IMC:\n",
        "  print('de acordo com ele, você esta em obesidade 1')\n",
        "\n",
        "elif 35 <= IMC and 39.9 >= IMC:\n",
        "  print('de acordo com ele, você esta em obesidade 2')\n",
        "\n",
        "elif IMC > 40:\n",
        "  print('de acordo com ele, você esta em obesidade 3')"
      ],
      "metadata": {
        "colab": {
          "base_uri": "https://localhost:8080/"
        },
        "id": "rQlCBULGEUgh",
        "outputId": "728eb216-56b3-4bc1-935e-488a912ed20a"
      },
      "execution_count": null,
      "outputs": [
        {
          "output_type": "stream",
          "name": "stdout",
          "text": [
            "Para saber o seu IMC (índice de massa corporal), precisamos saber:\n",
            "a sua altura (em metros, ex: 1.52)2\n",
            "o seu peso (em KL, ex: 55)100\n",
            "O seu IMC é 25.0\n",
            "de acordo com ele, você esta sobre peso\n"
          ]
        }
      ]
    },
    {
      "cell_type": "code",
      "source": [
        "#Saber se pode competir no vôlei\n",
        "#Entrada\n",
        "print('Para saber se você pode competir no campeonato de vôlei, precisamos saber:')\n",
        "altura = float(input('a sua altura (em metros, ex: 1.52)'))\n",
        "idade = float(input('a sua idade '))\n",
        "\n",
        "#vai\n",
        "if altura >= 1.75 and idade >= 18:\n",
        "  print('Você pode participar!!')\n",
        "\n",
        "else:\n",
        "  print(\"Infelizmente você não pode participar :/\")"
      ],
      "metadata": {
        "colab": {
          "base_uri": "https://localhost:8080/"
        },
        "id": "KByoU_NuGeVw",
        "outputId": "a771f1ce-5917-4362-8854-c047d0b5f399"
      },
      "execution_count": null,
      "outputs": [
        {
          "output_type": "stream",
          "name": "stdout",
          "text": [
            "Para saber se você pode competir no campeonato de vôlei, precisamos saber:\n",
            "a sua altura (em metros, ex: 1.52)2\n",
            "a sua idade 2\n",
            "Infelizmente você não pode participar :/\n"
          ]
        }
      ]
    },
    {
      "cell_type": "code",
      "source": [
        "#Simulado de Empréstimo Bancário\n",
        "\n",
        "#Entrada\n",
        "#valor do empréstimp, salário mensal e nú de parcelas\n",
        "print('Para saber se você pode fazer o empréstimo, precisamos saber:')\n",
        "sal = float(input('o seu salário: '))\n",
        "empréstimo = float(input('o valor do empréstimo que desaja fazer: '))\n",
        "par = int(input(\"a quantidade de parcelas: \"))\n",
        "\n",
        "#requisito\n",
        "#a parcela n pode ultrapassar 30% do salário\n",
        "\n",
        "#saída\n",
        "#nege ou aprove o empréstimo\n",
        "prePORpar = empréstimo / par\n",
        "if sal / 10 * 3 < prePORpar :\n",
        "  print(\"Empréstimo negado\")\n",
        "else:\n",
        "  print(\"Empréstimo aprovado\")"
      ],
      "metadata": {
        "colab": {
          "base_uri": "https://localhost:8080/"
        },
        "id": "PkU6DN58IO5S",
        "outputId": "8657c8bf-60f1-49a4-8ff9-724a08f3d8fa"
      },
      "execution_count": 1,
      "outputs": [
        {
          "output_type": "stream",
          "name": "stdout",
          "text": [
            "Para saber se você pode fazer o empréstimo, precisamos saber:\n",
            "o seu salário: 10000\n",
            "o valor do empréstimo que desaja fazer: 4000\n",
            "a quantidade de parcelas: 1\n",
            "empréstimo negado\n"
          ]
        }
      ]
    }
  ]
}