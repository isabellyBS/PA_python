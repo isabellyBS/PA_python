{
  "nbformat": 4,
  "nbformat_minor": 0,
  "metadata": {
    "colab": {
      "provenance": [],
      "include_colab_link": true
    },
    "kernelspec": {
      "name": "python3",
      "display_name": "Python 3"
    },
    "language_info": {
      "name": "python"
    }
  },
  "cells": [
    {
      "cell_type": "markdown",
      "metadata": {
        "id": "view-in-github",
        "colab_type": "text"
      },
      "source": [
        "<a href=\"https://colab.research.google.com/github/isabellyBS/PA_python/blob/main/Aula_PA/termo_29_09.ipynb\" target=\"_parent\"><img src=\"https://colab.research.google.com/assets/colab-badge.svg\" alt=\"Open In Colab\"/></a>"
      ]
    },
    {
      "cell_type": "code",
      "execution_count": null,
      "metadata": {
        "colab": {
          "base_uri": "https://localhost:8080/"
        },
        "id": "yI39_BHiuG9T",
        "outputId": "cb1aa767-b73d-45fc-c198-bb81052f85d6"
      },
      "outputs": [
        {
          "output_type": "stream",
          "name": "stdout",
          "text": [
            "feliz\n"
          ]
        }
      ],
      "source": [
        "import random\n",
        "\n",
        "palavras=['areia','dupla','viola', 'feliz','cinco']\n",
        "\n",
        "palavra = random.choice(palavras)\n",
        "\n",
        "print(palavra)"
      ]
    },
    {
      "cell_type": "code",
      "source": [
        "letrasP = []\n",
        "\n",
        "for letra in palavra:\n",
        "  letrasP.append(letra)\n",
        "\n",
        "print(letrasP)"
      ],
      "metadata": {
        "colab": {
          "base_uri": "https://localhost:8080/"
        },
        "id": "FdmotQl684c9",
        "outputId": "bad74f1e-6114-492a-9602-4f4a7a5edc9a"
      },
      "execution_count": null,
      "outputs": [
        {
          "output_type": "stream",
          "name": "stdout",
          "text": [
            "['f', 'e', 'l', 'i', 'z']\n"
          ]
        }
      ]
    },
    {
      "cell_type": "code",
      "source": [
        "print('Adivinhe a palavra!')\n",
        "print('A palavra tem 5 letras, a cada palavra que você dizer daremos dicas em relação a cada letra.')\n",
        "print('Você tem 6 chances para acertar a palavra.')\n",
        "print('Quando a letra for minúscula, é porque ela está em algum lugar na palavra.')\n",
        "print('Quando for maiúscula, é porque ela já está no lugar certo da palavra.')\n",
        "chances=6\n",
        "vitoria=0\n",
        "\n",
        "#Pegar a palavra oculta\n",
        "import random\n",
        "\n",
        "palavras=['areia','dupla','viola', 'feliz','cinco']\n",
        "palavra = random.choice(palavras)\n",
        "\n",
        "\n",
        "#Separar cada letra da palavra, pra comparar\n",
        "letrasP = []\n",
        "\n",
        "for letra in palavra:\n",
        "  letrasP.append(letra)\n",
        "\n",
        "\n",
        "#Chutes da pessoa e resultado\n",
        "while chances != 0:\n",
        "  print('----------------')\n",
        "  print(f'Você tem {chances} chances.')\n",
        "  chute=str(input('Qual é o chute dessa vez? ')).lower()\n",
        "  if chute == palavra:\n",
        "    vitoria+=1\n",
        "    print('-----')\n",
        "    print('Você ganhou!')\n",
        "    print(f'faltando apenas {chances} chances!')\n",
        "    break\n",
        "  if len(chute) != 5:\n",
        "    print(\"a palavra tem que ter 5 letras\")\n",
        "  else:\n",
        "    dica=[]\n",
        "  #  for i in chute:\n",
        "  #    if i in palavra:\n",
        "        #if i in letrasP:\n",
        "          #dica.append(i.upper())\n",
        "         # letrasP.remove(i)\n",
        "        #else:\n",
        "  #      dica.append(i)\n",
        "#      else:\n",
        "#        dica.append('_')\n",
        "    letrasC=[]\n",
        "    for L in chute:\n",
        "      letrasC.append(L)\n",
        "    for i in range(5):\n",
        "      if letrasC[i] in palavra:\n",
        "        if letrasP[i] == letrasC[i]:\n",
        "          dica.append(letrasC[i].upper())\n",
        "        else:\n",
        "          dica.append(letrasC[i])\n",
        "      else:\n",
        "        dica.append('_')\n",
        "    print(dica)\n",
        "    chances-=1\n",
        "if vitoria== 0:\n",
        "  print('Você perdeu!')\n",
        "  print(f'A palavra era {palavra}')"
      ],
      "metadata": {
        "colab": {
          "base_uri": "https://localhost:8080/"
        },
        "id": "wLx6DTP9wA8P",
        "outputId": "12449575-a59d-42a0-d4b3-37cbe2aad527"
      },
      "execution_count": null,
      "outputs": [
        {
          "output_type": "stream",
          "name": "stdout",
          "text": [
            "Adivinhe a palavra!\n",
            "A palavra tem 5 letras, a cada palavra que você dizer daremos dicas em relação a cada letra.\n",
            "Você tem 6 chances para acertar a palavra.\n",
            "Quando a letra for minúscula, é porque ela está em algum lugar na palavra.\n",
            "Quando for maiúscula, é porque ela já está no lugar certo da palavra.\n",
            "----------------\n",
            "Você tem 6 chances.\n",
            "Qual é o chute dessa vez? dupla\n",
            "['_', '_', '_', 'l', '_']\n",
            "----------------\n",
            "Você tem 5 chances.\n",
            "Qual é o chute dessa vez? cinco\n",
            "['_', 'i', '_', '_', '_']\n",
            "----------------\n",
            "Você tem 4 chances.\n",
            "Qual é o chute dessa vez? feliz\n",
            "-----\n",
            "Você ganhou!\n",
            "faltando apenas 4 chances!\n"
          ]
        }
      ]
    }
  ]
}