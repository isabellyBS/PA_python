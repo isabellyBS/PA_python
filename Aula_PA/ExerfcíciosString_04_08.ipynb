{
  "nbformat": 4,
  "nbformat_minor": 0,
  "metadata": {
    "colab": {
      "provenance": [],
      "authorship_tag": "ABX9TyNuzzAi485Tf0HbEmoqblkz",
      "include_colab_link": true
    },
    "kernelspec": {
      "name": "python3",
      "display_name": "Python 3"
    },
    "language_info": {
      "name": "python"
    }
  },
  "cells": [
    {
      "cell_type": "markdown",
      "metadata": {
        "id": "view-in-github",
        "colab_type": "text"
      },
      "source": [
        "<a href=\"https://colab.research.google.com/github/isabellyBS/PA_python/blob/main/Aula_PA/Exerfc%C3%ADciosString_04_08.ipynb\" target=\"_parent\"><img src=\"https://colab.research.google.com/assets/colab-badge.svg\" alt=\"Open In Colab\"/></a>"
      ]
    },
    {
      "cell_type": "markdown",
      "source": [
        "EXERCÍCIOS\n",
        "# 1 - Use o método len para imprimir o comprimento da string.\n",
        "x = \"Hello World\"\n",
        "print(    )\n",
        "# 2 - Obtenha o primeiro caractere da string txt.\n",
        "txt = \"Hello World\"\n",
        "x =\n",
        "# 3 - Obtenha os caracteres do índice 2 ao índice 4 ( llo).\n",
        "txt = \"Hello World\"\n",
        "x =\n",
        "# 4 - Converta o valor de txt para maiúsculas.\n",
        "txt = \"Hello World\"\n",
        "txt =\n",
        "# - Conte quantas vezes aparece a palavra \"de\" na string abaixo\n",
        "txt = \"Eu gosto de vijar, tomar vinho, de estudar estudar programação, de estudar Pyhon\"\n",
        "# - Separe a frase abaixo toda vez que encontrar um vírgula\n",
        "txt = \"Eu gosto de vijar, tomar vinho, de estudar estudar programação, de estudar Pyhon\""
      ],
      "metadata": {
        "id": "7ZkWnMRwejfM"
      }
    },
    {
      "cell_type": "code",
      "execution_count": 4,
      "metadata": {
        "colab": {
          "base_uri": "https://localhost:8080/"
        },
        "id": "n7TgW3LVTOr_",
        "outputId": "faf5f94a-1a24-4cbe-b525-b1427b7f41cd"
      },
      "outputs": [
        {
          "output_type": "stream",
          "name": "stdout",
          "text": [
            "11\n"
          ]
        }
      ],
      "source": [
        "# 1 - Use o método len para imprimir o comprimento da string.\n",
        "x = \"Hello World\"\n",
        "print(len(x))"
      ]
    },
    {
      "cell_type": "code",
      "source": [
        "# 2 - Obtenha o primeiro caractere da string txt.\n",
        "txt = \"Hello World\"\n",
        "x = txt[1]\n",
        "x"
      ],
      "metadata": {
        "colab": {
          "base_uri": "https://localhost:8080/",
          "height": 35
        },
        "id": "uQr4sXMjeybW",
        "outputId": "6705a36d-03da-4836-f7da-8fd981f5fba1"
      },
      "execution_count": 6,
      "outputs": [
        {
          "output_type": "execute_result",
          "data": {
            "text/plain": [
              "'e'"
            ],
            "application/vnd.google.colaboratory.intrinsic+json": {
              "type": "string"
            }
          },
          "metadata": {},
          "execution_count": 6
        }
      ]
    },
    {
      "cell_type": "code",
      "source": [
        "# 3 - Obtenha os caracteres do índice 2 ao índice 4 ( llo).\n",
        "txt = \"Hello World\"\n",
        "x = txt[2:5]\n",
        "x"
      ],
      "metadata": {
        "colab": {
          "base_uri": "https://localhost:8080/",
          "height": 35
        },
        "id": "oZaxgVkae5dp",
        "outputId": "5c820176-9534-4478-fc5c-61ea3ebcc13c"
      },
      "execution_count": 12,
      "outputs": [
        {
          "output_type": "execute_result",
          "data": {
            "text/plain": [
              "'llo'"
            ],
            "application/vnd.google.colaboratory.intrinsic+json": {
              "type": "string"
            }
          },
          "metadata": {},
          "execution_count": 12
        }
      ]
    },
    {
      "cell_type": "code",
      "source": [
        "# 4 - Converta o valor de txt para maiúsculas.\n",
        "txt = \"Hello World\"\n",
        "txt = txt.upper()\n",
        "txt"
      ],
      "metadata": {
        "colab": {
          "base_uri": "https://localhost:8080/",
          "height": 35
        },
        "id": "DPpOyiMafBcf",
        "outputId": "539aa35b-c3b7-4c27-ac2b-6dc1e4c9e904"
      },
      "execution_count": 3,
      "outputs": [
        {
          "output_type": "execute_result",
          "data": {
            "text/plain": [
              "'HELLO WORLD'"
            ],
            "application/vnd.google.colaboratory.intrinsic+json": {
              "type": "string"
            }
          },
          "metadata": {},
          "execution_count": 3
        }
      ]
    },
    {
      "cell_type": "code",
      "source": [
        "# - Conte quantas vezes aparece a palavra \"de\" na string abaixo\n",
        "txt = \"Eu gosto de vijar, tomar vinho, de estudar estudar programação, de estudar Pyhon\"\n",
        "txt.count('de')"
      ],
      "metadata": {
        "colab": {
          "base_uri": "https://localhost:8080/"
        },
        "id": "_LnVbughfCgl",
        "outputId": "74b43552-7a1a-457f-d6ae-14ff308c6670"
      },
      "execution_count": 13,
      "outputs": [
        {
          "output_type": "execute_result",
          "data": {
            "text/plain": [
              "3"
            ]
          },
          "metadata": {},
          "execution_count": 13
        }
      ]
    },
    {
      "cell_type": "code",
      "source": [
        "# - Separe a frase abaixo toda vez que encontrar um vírgula\n",
        "txt = \"Eu gosto de vijar, tomar vinho, de estudar estudar programação, de estudar Pyhon\"\n",
        "txt.split(',')"
      ],
      "metadata": {
        "colab": {
          "base_uri": "https://localhost:8080/"
        },
        "id": "HiWnxzBEfF66",
        "outputId": "4daeafd9-8c0a-48cc-e3ed-3095bd8c73fc"
      },
      "execution_count": 14,
      "outputs": [
        {
          "output_type": "execute_result",
          "data": {
            "text/plain": [
              "['Eu gosto de vijar',\n",
              " ' tomar vinho',\n",
              " ' de estudar estudar programação',\n",
              " ' de estudar Pyhon']"
            ]
          },
          "metadata": {},
          "execution_count": 14
        }
      ]
    },
    {
      "cell_type": "code",
      "source": [
        "#pedir nome completo e exibir:\n",
        "#1. O nome com todas as letras maiúsculas\n",
        "#2. =1 mas minúsculas\n",
        "#3. total de letras (sem os espaços)\n",
        "#4. quantas letras tem o primeiro nome\n",
        "#5. contar quantas VOGAIS existem na string\n",
        "\n",
        "#dica: .upper() , .lower() , .replace()  e  .split()\n",
        "\n",
        "nome = str(input('Digite seu nome completo: '))\n",
        "\n",
        "print(\"TUDO MAIÚSCULO: \",nome.upper())\n",
        "print(\"tudo minúsculo: \",nome.lower())\n",
        "print('Total de letras (sem os espaços): ',len(nome)-nome.count(\" \"))\n",
        "print(\"Quantidade de caracteres do primeiro nome(antes do 1° espaço): \",nome.index(\" \"))\n",
        "print(\"Quantas vogais tem:\",nome.count('a')+nome.count('e')+nome.count('i')+nome.count('o')+nome.count('u')+nome.count('A')+nome.count('E')+nome.count('I')+nome.count('O')+nome.count('U'))"
      ],
      "metadata": {
        "colab": {
          "base_uri": "https://localhost:8080/"
        },
        "id": "YzMrC2MujHGn",
        "outputId": "f8b2384f-0dd8-4c59-cd2c-4a331904cd21"
      },
      "execution_count": 48,
      "outputs": [
        {
          "output_type": "stream",
          "name": "stdout",
          "text": [
            "Digite seu nome completo:   Isabelly Balduino Silva\n",
            "TUDO MAIÚSCULO:    ISABELLY BALDUINO SILVA\n",
            "tudo minúsculo:    isabelly balduino silva\n",
            "Total de letras (sem os espaços):  21\n",
            "Quantidade de caracteres do primeiro nome:  0\n",
            "Quantas vogais tem: 9\n"
          ]
        }
      ]
    }
  ]
}