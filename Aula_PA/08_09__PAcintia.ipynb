{
  "nbformat": 4,
  "nbformat_minor": 0,
  "metadata": {
    "colab": {
      "provenance": [],
      "authorship_tag": "ABX9TyNh8WI1EA7IFxEV1nOArWM/",
      "include_colab_link": true
    },
    "kernelspec": {
      "name": "python3",
      "display_name": "Python 3"
    },
    "language_info": {
      "name": "python"
    }
  },
  "cells": [
    {
      "cell_type": "markdown",
      "metadata": {
        "id": "view-in-github",
        "colab_type": "text"
      },
      "source": [
        "<a href=\"https://colab.research.google.com/github/isabellyBS/PA_python/blob/main/Aula_PA/08_09__PAcintia.ipynb\" target=\"_parent\"><img src=\"https://colab.research.google.com/assets/colab-badge.svg\" alt=\"Open In Colab\"/></a>"
      ]
    },
    {
      "cell_type": "markdown",
      "source": [
        "Lista de Exercícios unindo tudo que foi ensinado até o momento:\n",
        "\n",
        "Condicionais\n",
        "* Laços de Reptição\n",
        "* Listas\n",
        "* Tuplas\n",
        "* Dicionários\n",
        "* Manipulação de Strings\n",
        "\n",
        "#Tuplas - Acesso e Desempacotamento\n",
        "\n",
        "1.   Crie uma tupla contendo três tipos diferentes de dados: um número, uma string e uma lista. Use um laço de repetição para acessar e imprimir cada item da tupla. Além disso, dentro do laço, acesse e imprima o segundo item da lista que está dentro da tupla.\n",
        "\n",
        "dados = (24, \"Cíntia\",[1,2,3])\n",
        "\n",
        "for i in dados:\n",
        "  print(i)\n",
        "     \n",
        "24\n",
        "Cíntia\n",
        "[1, 2, 3]\n",
        "\n",
        "\n",
        "     \n",
        "tuple\n",
        "\n",
        "\n",
        "#Dicionários - Criação e Acesso\n",
        "##Cadastro de Pessoas e Análise de Alturas\n",
        "2. Solicite ao usuário para inserir o nome e a altura de várias pessoas. Preencha um dicionário com essas informações e depois encontre e imprima o nome e a altura da pessoa mais alta e da mais baixa.\n",
        "\n",
        "alturas = {}\n",
        "\n",
        "\n",
        "     \n",
        "#Lista, laços e Condicionais\n",
        "3. Descrição: Crie uma listacom cinco números inteiros. Use um laço de repetição e uma condicional para imprimir apenas os números que são múltiplos de 3.\n",
        "\n",
        "#Manipulação de Strings e Condicionais\n",
        "4. Descrição: Crie uma string com uma frase. Use uma condicional para verificar se a frase contém a palavra \"Python\". Se sim, substitua a palavra \"Python\" por \"programação\" e imprima a nova frase.\n",
        "\n",
        "#Simulação de Alfândega com Cadastro Dinâmico de Itens usando dicionário\n",
        "5. Simule uma situação de alfândega onde o funcionário cadastra itens novos encontrados na mala de uma pessoa que veio de uma viagem internacional. Após o cadastro de todos os itens, o programa imprime uma nota com todos os itens e seus preços, calcula o valor total e, se o valor total ultrapassar 500 dólares, calcula o valor de 60% a ser pago.\n",
        "\n",
        "#Identificação de Palavras Negativas em um Texto\n",
        "6. Você vai criar um programa em Python para analisar um texto e identificar palavras que expressam pensamentos negativos. Para isso, você usará uma lista de palavras negativas fornecida e verificará quais dessas palavras estão presentes no texto fornecido pelo usuário.\n",
        "\n",
        "Exemplo de palavras negtivas, acrescente mais na lista: # Lista de palavras negativas palavras_negativas = ['triste', 'deprimido', 'ansioso', 'desapontado', 'frustrado']"
      ],
      "metadata": {
        "id": "BTdh8rxHjLkY"
      }
    },
    {
      "cell_type": "code",
      "source": [
        "#1\n",
        "dados = (2025, \"ProfCíntia\",[1,2,3])\n",
        "\n",
        "for i in dados:\n",
        "  print(i)\n",
        "  #\"... Além disso, dentro do laço, acesse e imprima o segundo item da lista que está dentro da tupla. \" ok né\n",
        "  print(dados[2][1])"
      ],
      "metadata": {
        "colab": {
          "base_uri": "https://localhost:8080/"
        },
        "id": "sg53zmxQptWy",
        "outputId": "03074dc0-942c-458a-af05-b29f6269447f"
      },
      "execution_count": null,
      "outputs": [
        {
          "output_type": "stream",
          "name": "stdout",
          "text": [
            "2025\n",
            "2\n",
            "ProfCíntia\n",
            "2\n",
            "[1, 2, 3]\n",
            "2\n"
          ]
        }
      ]
    },
    {
      "cell_type": "code",
      "execution_count": null,
      "metadata": {
        "colab": {
          "base_uri": "https://localhost:8080/"
        },
        "id": "ytOCW8ZvjDZf",
        "outputId": "5e4f5615-9c0e-4164-995f-f5b55753c9fc"
      },
      "outputs": [
        {
          "name": "stdout",
          "output_type": "stream",
          "text": [
            "Digite, respectivamente, o nome da pessoa e sua altura, caso já tenha terminado, quando pedir a altura digite sair.\n",
            "Nome: Bia\n",
            "Altura: 1.58\n",
            "Nome: Isa\n",
            "Altura: 1.62\n",
            "Nome: Vi\n",
            "Altura: 1.7\n",
            "Nome: sair\n"
          ]
        }
      ],
      "source": [
        "#2\n",
        "alturas={}\n",
        "print(\"Digite, respectivamente, o nome da pessoa e sua altura, caso já tenha terminado, quando pedir o nome digite sair.\")\n",
        "while True:\n",
        "  nome = input(\"Nome: \").lower() #para, independente de como por, ficar tudo minúsulo\n",
        "  if nome == 'sair':\n",
        "    break\n",
        "  altura = float(input(\"Altura: \"))\n",
        "  alturas[nome]=altura\n"
      ]
    },
    {
      "cell_type": "code",
      "source": [
        "#Pessoa mais alta e mais baixa\n",
        "maiorNu=0\n",
        "menorNu=50\n",
        "maior = {}\n",
        "menor = {}\n",
        "for alt in alturas:\n",
        "  if alturas[alt] > maiorNu:\n",
        "    maior = {alt : alturas[alt]}\n",
        "    maiorNu = alturas[alt]\n",
        "  if alturas[alt] < menorNu:\n",
        "    menor = {alt : alturas[alt]}\n",
        "    menorNu = alturas[alt]\n",
        "\n",
        "print(\"A maior pessoa e sua altura:\", maior)\n",
        "print(\"A menor pessoa e sua altura:\", menor)"
      ],
      "metadata": {
        "colab": {
          "base_uri": "https://localhost:8080/"
        },
        "id": "HjHuwZSIyiXR",
        "outputId": "f4a52665-f3ff-4813-a2b7-1f567cc181f3"
      },
      "execution_count": null,
      "outputs": [
        {
          "output_type": "stream",
          "name": "stdout",
          "text": [
            "A maior pessoa e sua altura: {'vi': 1.7}\n",
            "A menor pessoa e sua altura: {'bia': 1.58}\n"
          ]
        }
      ]
    },
    {
      "cell_type": "code",
      "source": [
        "#3\n",
        "lista = [14,9,10,29,120]\n",
        "for num in lista:\n",
        "  if num % 3 == 0:\n",
        "    print(num)"
      ],
      "metadata": {
        "colab": {
          "base_uri": "https://localhost:8080/"
        },
        "id": "BuOhOrl98IXQ",
        "outputId": "ecec731f-ea7a-4bb8-99b3-beaf0ecb2274"
      },
      "execution_count": null,
      "outputs": [
        {
          "output_type": "stream",
          "name": "stdout",
          "text": [
            "9\n",
            "120\n"
          ]
        }
      ]
    },
    {
      "cell_type": "code",
      "source": [
        "#4\n",
        "frase=str(input(\"Digite uma frase: \")).lower()\n",
        "if \"phyton\" in frase :\n",
        "  frase = frase.replace(\"phyton\",\"programação\")\n",
        "print(frase)"
      ],
      "metadata": {
        "colab": {
          "base_uri": "https://localhost:8080/"
        },
        "id": "3aGhYMDp9Kjk",
        "outputId": "3fc4fcc5-813a-49fb-cacd-c7f0ab285cf3"
      },
      "execution_count": 13,
      "outputs": [
        {
          "output_type": "stream",
          "name": "stdout",
          "text": [
            "Digite uma frase: Finalmente esse código em phyton vai funcionar??\n",
            "finalmente esse código em programação vai funcionar??\n"
          ]
        }
      ]
    },
    {
      "cell_type": "code",
      "source": [
        "#5\n",
        "cadastro = {}\n",
        "while True:\n",
        "  item = str(input(\"Digite o nome do item ou 'sair' se deseja finalizar: \")).lower()\n",
        "  if item == \"sair\":\n",
        "    break\n",
        "  valor = float(input(\"Digite o valor do item: $\"))\n",
        "  cadastro[item] = valor\n",
        "  total = sum(cadastro.values())\n",
        "\n",
        "print(cadastro)\n",
        "print(\"O valor total dos itens é: $\",total)\n",
        "\n",
        "if total > 500:\n",
        "  imposto = total/100*60\n",
        "  print(\"O total a se pagar, com o imposto, é: $\",imposto+total)"
      ],
      "metadata": {
        "colab": {
          "base_uri": "https://localhost:8080/"
        },
        "id": "jxaVFt8ju3Og",
        "outputId": "19e90ae4-0e1d-4641-f02e-2b05b2be12b1"
      },
      "execution_count": 15,
      "outputs": [
        {
          "output_type": "stream",
          "name": "stdout",
          "text": [
            "Digite o nome do item ou 'sair' se deseja finalizar: vinho\n",
            "Digite o valor do item: $50\n",
            "Digite o nome do item ou 'sair' se deseja finalizar: arroz\n",
            "Digite o valor do item: $20\n",
            "Digite o nome do item ou 'sair' se deseja finalizar: celular\n",
            "Digite o valor do item: $1500\n",
            "Digite o nome do item ou 'sair' se deseja finalizar: sair\n",
            "{'vinho': 50.0, 'arroz': 20.0, 'celular': 1500.0}\n",
            "O valor total dos itens é: $ 1570.0\n",
            "O total a se pagar com o imposto é: $ 2512.0\n"
          ]
        }
      ]
    },
    {
      "cell_type": "code",
      "source": [
        "#6\n",
        "\n",
        "palavras_negativas = ['triste', 'deprimido', 'ansioso', 'desapontado', 'frustrado','raiva','cabisbaixo']\n",
        "frase = input(\"Digite a sua frase: \").lower()\n",
        "tem_palavra_negativa = True\n",
        "\n",
        "for palavra in palavras_negativas:\n",
        "  if palavra in frase:\n",
        "    tem_palavra_negativa = False\n",
        "    break\n",
        "\n",
        "if tem_palavra_negativa == False:\n",
        "  print(\"Sua frase tem palavra negativa\")\n",
        "else:\n",
        "  print(\"Sua frase não tem palavra negativa\")"
      ],
      "metadata": {
        "colab": {
          "base_uri": "https://localhost:8080/"
        },
        "id": "jtFUDG-Au4hm",
        "outputId": "5ed7a83e-7c1c-4e17-ab03-c7a27bb41bb8"
      },
      "execution_count": 22,
      "outputs": [
        {
          "output_type": "stream",
          "name": "stdout",
          "text": [
            "Digite a sua frase: Após a prova, ele ficou cabisbaixo\n",
            "Sua frase tem palavra negativa\n"
          ]
        }
      ]
    }
  ]
}