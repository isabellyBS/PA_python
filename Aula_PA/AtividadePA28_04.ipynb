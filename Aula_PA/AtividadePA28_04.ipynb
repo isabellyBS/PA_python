{
  "nbformat": 4,
  "nbformat_minor": 0,
  "metadata": {
    "colab": {
      "provenance": [],
      "authorship_tag": "ABX9TyOLY6DwEcR6lBkltDfGzMvr",
      "include_colab_link": true
    },
    "kernelspec": {
      "name": "python3",
      "display_name": "Python 3"
    },
    "language_info": {
      "name": "python"
    }
  },
  "cells": [
    {
      "cell_type": "markdown",
      "metadata": {
        "id": "view-in-github",
        "colab_type": "text"
      },
      "source": [
        "<a href=\"https://colab.research.google.com/github/isabellyBS/PA_python/blob/main/Aula_PA/AtividadePA28_04.ipynb\" target=\"_parent\"><img src=\"https://colab.research.google.com/assets/colab-badge.svg\" alt=\"Open In Colab\"/></a>"
      ]
    },
    {
      "cell_type": "markdown",
      "source": [
        "# Atividade PA 28/04"
      ],
      "metadata": {
        "id": "YDG1KAbBo-S7"
      }
    },
    {
      "cell_type": "code",
      "source": [
        "#Número par ou impar\n",
        "#Entrada\n",
        "valor = float(input('Qual número você quer saber se é par ou ímpar?'))\n",
        "\n",
        "#Processamento\n",
        "impar = (valor % 2) == 1\n",
        "par = valor% 2 ==0\n",
        "\n",
        "#Saída\n",
        "print('é ímpar?', impar)\n",
        "print('é par?', par)"
      ],
      "metadata": {
        "colab": {
          "base_uri": "https://localhost:8080/"
        },
        "id": "96DEyoD_pKjX",
        "outputId": "23314404-8219-4fd5-8cbd-0378ba0defc3"
      },
      "execution_count": 17,
      "outputs": [
        {
          "output_type": "stream",
          "name": "stdout",
          "text": [
            "Qual número você quer saber se é par ou ímpar?909090990909\n",
            "é ímpar? True\n",
            "é par? False\n"
          ]
        }
      ]
    },
    {
      "cell_type": "code",
      "source": [
        "#Ver se é um triangulo e se é um triangulo equilatero, escaleno ou isosceles\n",
        "#entrada\n",
        "print('Fale o valor da medida dos 3 lados do \"triangulo\"')\n",
        "l1 = float(input('1° lado é '))\n",
        "l2 =float(input('2° lado é '))\n",
        "l3 =float(input('3° lado é '))\n",
        "\n",
        "#Processamento\n",
        "# Se é um triangulo\n",
        "triangulo = l1 + l2 > l3 and l1+l3>l2 and l2+l3>l1\n",
        "\n",
        "# É equilatero?\n",
        "equilatero =l1 == l2 == l3\n",
        "\n",
        "# É escaleno?\n",
        "escaleno = l1 != l2 != l3\n",
        "\n",
        "# É isosceles?\n",
        "isosceles = l1 == l2 != l3 or l2 == l3 != l1 or l1 == l3 != l2\n",
        "\n",
        "# Saída\n",
        "print('É possível ser um triangulo?', triangulo)\n",
        "print('É equilatero?', equilatero)\n",
        "print('É  escaleno?', escaleno)\n",
        "print('É isosceles?', isosceles)"
      ],
      "metadata": {
        "colab": {
          "base_uri": "https://localhost:8080/"
        },
        "id": "RU_QVj0uq9HT",
        "outputId": "7705abdc-c9d0-4d50-c8f5-c867142f1364"
      },
      "execution_count": 36,
      "outputs": [
        {
          "output_type": "stream",
          "name": "stdout",
          "text": [
            "Fale o valor da medida dos 3 lados do \"triangulo\"\n",
            "1° lado é 3\n",
            "2° lado é 6\n",
            "3° lado é 5\n",
            "é possível ser um triangulo? True\n",
            "é equilatero? False\n",
            "é  escaleno? True\n",
            "é isosceles? False\n"
          ]
        }
      ]
    },
    {
      "cell_type": "code",
      "source": [
        "#Calcular IMC e falar no que deu\n",
        "#Entrada\n",
        "print('Para saber o seu IMC (índice de massa corporal), precisamos saber:')\n",
        "altura = float(input('a sua altura (em metros, ex: 1.52)'))\n",
        "peso = float(input('o seu peso (em KL, ex: 55)'))\n",
        "\n",
        "#Processamento\n",
        "IMC= peso / altura **2\n",
        "\n",
        "AdP = 18.5 > IMC\n",
        "NouI = 18.5 <= IMC and 24.9 >= IMC\n",
        "SP = 25 <= IMC and 29.9 >= IMC\n",
        "Oum = 30 <= IMC and 34.9 >= IMC\n",
        "Odois = 35 <= IMC and 39.9 >= IMC\n",
        "Otres = IMC > 40\n",
        "\n",
        "#Saída\n",
        "print('O seu IMC é', IMC)\n",
        "print('Você está')\n",
        "print('Abaixo do peso', AdP)\n",
        "print('Peso normal/ideal',NouI)\n",
        "print('Sobre peso', SP)\n",
        "print('Obesidade grau 1',Oum )\n",
        "print('Obesidade grau 2', Odois)\n",
        "print('Obesidade grau 3', Otres)"
      ],
      "metadata": {
        "colab": {
          "base_uri": "https://localhost:8080/"
        },
        "id": "Kh5nQ49gx8f1",
        "outputId": "cfefb24c-a1d7-48dd-e378-cc9971095ec7"
      },
      "execution_count": 44,
      "outputs": [
        {
          "output_type": "stream",
          "name": "stdout",
          "text": [
            "Para saber o seu IMC (índice de massa corporal), precisamos saber:\n",
            "a sua altura (em metros, ex: 1.52)1.82\n",
            "o seu peso (em KL, ex: 55)100\n",
            "O seu IMC é 30.189590629151066\n",
            "Você está\n",
            "Abaixo do peso False\n",
            "Peso normal/ideal False\n",
            "Sobre peso False\n",
            "Obesidade grau 1 True\n",
            "Obesidade grau 2 False\n",
            "Obesidade grau 3 False\n"
          ]
        }
      ]
    },
    {
      "cell_type": "code",
      "source": [
        "#Saber se pode competir no vôlei\n",
        "#Entrada\n",
        "print('Para saber se você pode competir no campeonato de vôlei, precisamos saber:')\n",
        "altura = float(input('a sua altura (em metros, ex: 1.52)'))\n",
        "idade = float(input('a sua idade '))\n",
        "\n",
        "#Processamento\n",
        "pode = altura >= 1.75 and idade >= 18\n",
        "\n",
        "#Saída\n",
        "print('Você pode participar!!(essa notícia é', pode,')')"
      ],
      "metadata": {
        "colab": {
          "base_uri": "https://localhost:8080/"
        },
        "id": "qytMI3YA3jhv",
        "outputId": "1ba5039f-73dd-4c8a-dd17-846138890cbb"
      },
      "execution_count": 46,
      "outputs": [
        {
          "output_type": "stream",
          "name": "stdout",
          "text": [
            "Para saber se você pode competir no campeonato de vôlei, precisamos saber:\n",
            "a sua altura (em metros, ex: 1.52)2\n",
            "a sua idade 22\n",
            "Você pode participar!!(essa notícia é True )\n"
          ]
        }
      ]
    }
  ]
}