{
 "cells": [
  {
   "cell_type": "markdown",
   "metadata": {
    "id": "XpJAZxJGnsjo"
   },
   "source": [
    "Nome: Isabelly Balduino Silva"
   ]
  },
  {
   "cell_type": "markdown",
   "metadata": {
    "id": "psR_IyuqtxJc"
   },
   "source": [
    "***Atividade Avaliativa***\n",
    "\n",
    "**Enunciado:**\n",
    "\n",
    "Crie um programa em Python para avaliar uma competição de bandas de música. O programa deve:\n",
    "\n",
    "Perguntar a quantidade de bandas participantes (mínimo 3).\n",
    "\n",
    "Perguntar o nome de cada banda.\n",
    "\n",
    "Para cada banda, receber as notas de 5 jurados (valores de 0 a 10).\n",
    "\n",
    "Calcular a média das notas de cada banda e armazenar o resultado em um dicionário, onde a chave será o nome da banda e o valor será a média das notas.\n",
    "\n",
    "Ao final, mostrar:\n",
    "\n",
    "-A média de cada banda.\n",
    "\n",
    "-O nome da banda vencedora (a que tiver maior média)."
   ]
  },
  {
   "cell_type": "code",
   "execution_count": 13,
   "metadata": {},
   "outputs": [
    {
     "name": "stdout",
     "output_type": "stream",
     "text": [
      "Caso queira sair, quando perguntar o nome da banda, digite sair\n",
      "Nome da Banda: 7 minutos\n",
      "Nota(de 0 a 10) do/a 1° jurado/a: 1\n",
      "Nota(de 0 a 10) do/a 2° jurado/a: 8\n",
      "Nota(de 0 a 10) do/a 3° jurado/a: 5\n",
      "Nota(de 0 a 10) do/a 4° jurado/a: 6\n",
      "Nota(de 0 a 10) do/a 5° jurado/a: 7\n",
      "Nome da Banda: jão\n",
      "Nota(de 0 a 10) do/a 1° jurado/a: 6\n",
      "Nota(de 0 a 10) do/a 2° jurado/a: 7\n",
      "Nota(de 0 a 10) do/a 3° jurado/a: 10\n",
      "Nota(de 0 a 10) do/a 4° jurado/a: 9\n",
      "Nota(de 0 a 10) do/a 5° jurado/a: 8\n",
      "Nome da Banda: vmz\n",
      "Nota(de 0 a 10) do/a 1° jurado/a: 10\n",
      "Nota(de 0 a 10) do/a 2° jurado/a: 9.9\n",
      "Nota(de 0 a 10) do/a 3° jurado/a: 8\n",
      "Nota(de 0 a 10) do/a 4° jurado/a: 8.5\n",
      "Nota(de 0 a 10) do/a 5° jurado/a: 9.1\n",
      "Nome da Banda: sair\n",
      "-----------------------\n",
      "Confirmando, ficou assim (com o nome da banda e a média das notas):\n",
      "{'7 minutos': 5.4, 'jão': 8.0, 'vmz': 9.1}\n",
      "-----------------------\n",
      "A maior media de nota foi:\n",
      "9.1\n",
      "Da banda:\n",
      "vmz\n"
     ]
    }
   ],
   "source": [
    "# Digite sua resposta\n",
    "resultado={}\n",
    "print('Caso queira sair, quando perguntar o nome da banda, digite sair')\n",
    "while True:\n",
    "    nota = 0\n",
    "    nome=str(input(\"Nome da Banda: \")).lower()\n",
    "    if nome == \"sair\":\n",
    "        break\n",
    "    for n in range(1,6):\n",
    "        nota += float(input(f\"Nota(de 0 a 10) do/a {n}° jurado/a: \"))\n",
    "    media = nota/5\n",
    "    resultado[nome]=media\n",
    "print('-----------------------')\n",
    "print(\"Confirmando, ficou assim (com o nome da banda e a média das notas):\")\n",
    "print(resultado)\n",
    "print('-----------------------')\n",
    "print('A maior media de nota foi:')\n",
    "maior=float('-inf')\n",
    "for banda in resultado:\n",
    "    if resultado[banda] > maior:\n",
    "        maior = resultado[banda]\n",
    "print(maior)\n",
    "print('Da banda:')\n",
    "for banda in resultado:\n",
    "    if resultado[banda] == maior:\n",
    "        print(banda)"
   ]
  },
  {
   "cell_type": "markdown",
   "metadata": {
    "id": "fRV1N-Q4G7BK"
   },
   "source": [
    "**Enunciado:**\n",
    "\n",
    "Crie um programa que conte quantas vezes cada palavra aparece em uma frase.\n",
    "\n",
    "Pedir ao usuário para digitar uma frase\n",
    "\n",
    "Imprimir a palavra e quantas vezes ela aparece"
   ]
  },
  {
   "cell_type": "code",
   "execution_count": 44,
   "metadata": {
    "id": "HwK3-mVQHv8j"
   },
   "outputs": [
    {
     "name": "stdout",
     "output_type": "stream",
     "text": [
      "Escreva uma frase: Escrevendo Uma escrevendo uma frase\n",
      "----------------------------------------------------------\n",
      "Respectivamente, a palavra e quantas vezes aparece:\n",
      "{'escrevendo': 2, 'uma': 2, 'frase': 1}\n"
     ]
    }
   ],
   "source": [
    "# Digite sua resposta\n",
    "frase=str(input('''Escreva uma frase: ''')).lower()\n",
    "split = frase.split( )\n",
    "print(\"----------------------------------------------------------\")\n",
    "dicio={}\n",
    "for palavra in split:\n",
    "    if dicio != {}:\n",
    "        variavel=0\n",
    "        var=0\n",
    "        for p in dicio:\n",
    "            if palavra == p:\n",
    "                dicio[p]+= 1\n",
    "                break\n",
    "            var+=1\n",
    "        for item in dicio:\n",
    "            variavel+=1\n",
    "        if var == variavel:\n",
    "            dicio[palavra]=1\n",
    "            \n",
    "    else:\n",
    "        dicio[palavra]=1\n",
    "print(\"Respectivamente, a palavra e quantas vezes aparece:\")\n",
    "print(dicio)"
   ]
  },
  {
   "cell_type": "markdown",
   "metadata": {
    "id": "BKrOSqrOI2T5"
   },
   "source": [
    "**Enunciado:**\n",
    "\n",
    "Crie um programa em python que imprima números pares\n",
    "\n",
    "Pedir o usuário para digitar uma lista com mínimo 10 números\n",
    "\n",
    "Criar uma nova somente com numeros pares\n",
    "\n",
    "Imprimir números pares\n",
    "\n"
   ]
  },
  {
   "cell_type": "code",
   "execution_count": 16,
   "metadata": {
    "id": "dBf7H6s9MjgZ"
   },
   "outputs": [
    {
     "name": "stdout",
     "output_type": "stream",
     "text": [
      "Caso queira sair do loop, digite sair.\n",
      "Mas digite pelo menos 10 número antes, favor.\n",
      "Digite um número: 56\n",
      "Digite um número: 65\n",
      "Digite um número: 545\n",
      "Digite um número: 752\n",
      "Digite um número: 12\n",
      "Digite um número: 60\n",
      "Digite um número: 89\n",
      "Digite um número: 98\n",
      "Digite um número: 33\n",
      "Digite um número: 11\n",
      "Digite um número: sair\n",
      "----------------------------------------------------\n",
      "Dos números que você digitou, são pares:\n",
      "[56.0, 752.0, 12.0, 60.0, 98.0]\n"
     ]
    }
   ],
   "source": [
    "# Digite sua resposta\n",
    "lista=[]\n",
    "print('Caso queira sair do loop, digite sair.')\n",
    "print('Mas digite pelo menos 10 número antes, favor.')\n",
    "while True:\n",
    "    n = input('Digite um número: ').lower()\n",
    "    if n == \"sair\":\n",
    "        break\n",
    "    lista.append(float(n))\n",
    "print('----------------------------------------------------')\n",
    "print('Dos números que você digitou, são pares:')\n",
    "par=[]\n",
    "for num in lista:\n",
    "    if num %2 == 0:\n",
    "        par.append(num)\n",
    "print(par)"
   ]
  },
  {
   "cell_type": "code",
   "execution_count": 27,
   "metadata": {},
   "outputs": [
    {
     "name": "stdout",
     "output_type": "stream",
     "text": [
      "1\n",
      "Frase\n",
      "ehe\n",
      "2\n",
      "Frase\n",
      "ehe\n",
      "3\n",
      "Frase\n",
      "ehe\n",
      "4\n",
      "Frase\n",
      "ehe\n",
      "5\n",
      "Frase\n",
      "ehe\n",
      "6\n",
      "Frase\n",
      "ehe\n",
      "7\n",
      "Frase\n",
      "ehe\n",
      "8\n",
      "Frase\n",
      "ehe\n",
      "9\n",
      "Frase\n",
      "ehe\n",
      "10\n",
      "Frase\n",
      "ehe\n",
      "{'número': 1}\n",
      "{'número': 2}\n",
      "{'número': 3}\n",
      "{'número': 4}\n",
      "{'número': 5}\n",
      "número\n"
     ]
    }
   ],
   "source": [
    "#Testes para questão 2\n",
    "for i in range(1,11):\n",
    "    print(i)\n",
    "    for p in split:\n",
    "        print(p)\n",
    "        if p!= \"Frase\":\n",
    "            break\n",
    "dicionário={\"número\": 1}\n",
    "for i in range(1,6):\n",
    "    print(dicionário)\n",
    "    dicionário[\"número\"]+=1\n",
    "for p in dicionário:\n",
    "    print(p)"
   ]
  }
 ],
 "metadata": {
  "colab": {
   "authorship_tag": "ABX9TyMPfa4id0nMFHSWqcbBwSar",
   "provenance": [
    {
     "file_id": "1oEsagsr0AUsUTO9iGnea3JAW6NiCwqeB",
     "timestamp": 1758547990346
    },
    {
     "file_id": "1LADCxzYvBqiYFcjSgL_Z5bblVMBbsfJg",
     "timestamp": 1757516692807
    }
   ]
  },
  "kernelspec": {
   "display_name": "Python 3 (ipykernel)",
   "language": "python",
   "name": "python3"
  },
  "language_info": {
   "codemirror_mode": {
    "name": "ipython",
    "version": 3
   },
   "file_extension": ".py",
   "mimetype": "text/x-python",
   "name": "python",
   "nbconvert_exporter": "python",
   "pygments_lexer": "ipython3",
   "version": "3.10.7"
  }
 },
 "nbformat": 4,
 "nbformat_minor": 1
}
