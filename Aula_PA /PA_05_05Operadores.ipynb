{
  "nbformat": 4,
  "nbformat_minor": 0,
  "metadata": {
    "colab": {
      "provenance": [],
      "authorship_tag": "ABX9TyP/oAAwvx14NAH54zp9XnSw",
      "include_colab_link": true
    },
    "kernelspec": {
      "name": "python3",
      "display_name": "Python 3"
    },
    "language_info": {
      "name": "python"
    }
  },
  "cells": [
    {
      "cell_type": "markdown",
      "metadata": {
        "id": "view-in-github",
        "colab_type": "text"
      },
      "source": [
        "<a href=\"https://colab.research.google.com/github/isabellyBS/PA_python/blob/main/Aula_PA%20/PA_05_05Operadores.ipynb\" target=\"_parent\"><img src=\"https://colab.research.google.com/assets/colab-badge.svg\" alt=\"Open In Colab\"/></a>"
      ]
    },
    {
      "cell_type": "markdown",
      "source": [
        "# Atividade da aula do dia 5 de maio.\n"
      ],
      "metadata": {
        "id": "e-XYQvEpqppq"
      }
    },
    {
      "cell_type": "code",
      "execution_count": 7,
      "metadata": {
        "colab": {
          "base_uri": "https://localhost:8080/"
        },
        "id": "_0AANvzJqX7f",
        "outputId": "b4d8c0d9-f92b-40dc-8e47-5853db5fd7c1"
      },
      "outputs": [
        {
          "output_type": "stream",
          "name": "stdout",
          "text": [
            "Para comparar as idades, é preciso saber quais são.\n",
            "A primeira idade é 5\n",
            "A segunda idade é 9\n",
            "É False que a prineira idade é maior que a segunda\n"
          ]
        }
      ],
      "source": [
        "##Comparação de Idades 1\n",
        "#Entrada\n",
        "print('Para comparar as idades, é preciso saber quais são.')\n",
        "i1 = float(input('A primeira idade é '))\n",
        "i2 = float(input('A segunda idade é '))\n",
        "\n",
        "#Processamento\n",
        "c = i1 > i2\n",
        "\n",
        "#Saída\n",
        "print('É', c, 'que a prineira idade é maior que a segunda')\n"
      ]
    },
    {
      "cell_type": "code",
      "source": [
        "\n",
        "##Validação de acesso 2\n",
        "#Entrada\n",
        "print('Para voê entrar precisamos saober a sua idade e se você sabe a senha.')\n",
        "idade = float(input('Sua idade: '))\n",
        "senha = float(input('Senha:'))\n",
        "\n",
        "#Processamento\n",
        "i = idade >= 18\n",
        "s = senha == 1234\n",
        "resultado = i and s\n",
        "\n",
        "#Saída\n",
        "print('É', resultado, \"que você pode acessar o sistema\")\n"
      ],
      "metadata": {
        "colab": {
          "base_uri": "https://localhost:8080/"
        },
        "id": "WZIMxxLErOD8",
        "outputId": "1faace2a-d05d-4153-e965-173727c8b62e"
      },
      "execution_count": 17,
      "outputs": [
        {
          "output_type": "stream",
          "name": "stdout",
          "text": [
            "Para voê entrar precisamos saober a sua idade e se você sabe a senha.\n",
            "Sua idade: 22\n",
            "Senha:1234\n",
            "É True que você pode acessar o sistema\n"
          ]
        }
      ]
    },
    {
      "cell_type": "code",
      "source": [
        "##Número Fora de Intervalo 3\n",
        "#Entrada\n",
        "n = float(input('O número é '))\n",
        "\n",
        "#Processamento\n",
        "r = 10 < n <50\n",
        "\n",
        "#Saída\n",
        "print('É', r, \"que o número está entre 10 e 50\")"
      ],
      "metadata": {
        "colab": {
          "base_uri": "https://localhost:8080/"
        },
        "id": "UAMFqU4Vs-pJ",
        "outputId": "3286d732-5f22-4601-eed4-1541d38a64e5"
      },
      "execution_count": 50,
      "outputs": [
        {
          "output_type": "stream",
          "name": "stdout",
          "text": [
            "O número é 20\n",
            "É True que o número está entre 10 e 50\n"
          ]
        }
      ]
    },
    {
      "cell_type": "code",
      "source": [
        "##Compra Aprovação 4\n",
        "#Entrada\n",
        "print('Tu que fazer uma compra?')\n",
        "s = float(input('Você tem saldo suficiente?( responder com  1 se SIM e 2 se NÃo) '))\n",
        "c = float(input('E cupom? (1 SIM ou 2 NÃO) '))\n",
        "\n",
        "#Processamento\n",
        "V1 = s == 1\n",
        "V2 = c == 1\n",
        "R = V1 or V2\n",
        "\n",
        "#Saída\n",
        "print('É', R, 'que você pode fazer uma compra.')"
      ],
      "metadata": {
        "colab": {
          "base_uri": "https://localhost:8080/"
        },
        "id": "XlD6vyUMs_Va",
        "outputId": "d359e60d-6a59-442e-f227-deb65815af18"
      },
      "execution_count": 31,
      "outputs": [
        {
          "output_type": "stream",
          "name": "stdout",
          "text": [
            "Tu que fazer uma compra?\n",
            "Você tem saldo suficiente?( responder com  1 se SIM e 2 se NÃo) 1\n",
            "E cupom? (1 SIM ou 2 NÃO)2\n",
            "É True que você pode fazer uma compra.\n"
          ]
        }
      ]
    },
    {
      "cell_type": "code",
      "source": [
        "##Checar Condições Múltiplas 5\n",
        "#Entrada\n",
        "n =float(input('Qual o número? '))\n",
        "\n",
        "#Processamento\n",
        "par = n % 2 == 0\n",
        "positivo = n > 0\n",
        "r = par and positivo\n",
        "\n",
        "#Saída\n",
        "print('É', r, 'que o número é positivo E par.')"
      ],
      "metadata": {
        "colab": {
          "base_uri": "https://localhost:8080/"
        },
        "id": "4PjiGJlus_sk",
        "outputId": "da8b7775-cacc-40d6-e590-af42b402eef5"
      },
      "execution_count": 18,
      "outputs": [
        {
          "output_type": "stream",
          "name": "stdout",
          "text": [
            "Qual o número? 2\n",
            "É True que o número é positivo E par.\n"
          ]
        }
      ]
    },
    {
      "cell_type": "code",
      "source": [
        "##Verificar Se É Adolescente 6\n",
        "#Entrada\n",
        "i =float(input('A sua idade é '))\n",
        "\n",
        "#Processamento\n",
        "r = 13 <= i and i <= 17\n",
        "\n",
        "#Saída\n",
        "print('É', r, 'que você é um adolescente')"
      ],
      "metadata": {
        "colab": {
          "base_uri": "https://localhost:8080/"
        },
        "id": "69S7emJctABt",
        "outputId": "a32eb6ba-740b-4a8f-dd24-0ed8d7ae08c1"
      },
      "execution_count": 48,
      "outputs": [
        {
          "output_type": "stream",
          "name": "stdout",
          "text": [
            "A sua idade é 13\n",
            "É True que você é um adolescente\n"
          ]
        }
      ]
    },
    {
      "cell_type": "code",
      "source": [
        "\n",
        "##Senha Correta ou Adimin 7\n",
        "#Entrada\n",
        "senha =float(input('Senha '))\n",
        "admin =input('Você é admin? (coloque sim ou não) ')\n",
        "\n",
        "#Processamento\n",
        "S = senha == 12345\n",
        "Ad = admin == 'sim'\n",
        "r = S or Ad\n",
        "\n",
        "#Saída\n",
        "print('É', r, 'que é permitido o seu acesso.')"
      ],
      "metadata": {
        "colab": {
          "base_uri": "https://localhost:8080/"
        },
        "id": "RG-2UYFTtAV5",
        "outputId": "7aaac873-b389-4427-b56e-b8bbc056ade3"
      },
      "execution_count": 35,
      "outputs": [
        {
          "output_type": "stream",
          "name": "stdout",
          "text": [
            "Senha 22\n",
            "Você é admin? (coloque sim ou não) sim\n",
            "É True que\n"
          ]
        }
      ]
    },
    {
      "cell_type": "code",
      "source": [
        "##Nota para Aprovação 8\n",
        "#Entrada\n",
        "n =float(input('Sua nota: '))\n",
        "pOUa =input('Está presente?(responda com sim ou não) ')\n",
        "\n",
        "#Processamento\n",
        "N = n >= 6\n",
        "p = pOUa == \"sim\"\n",
        "r = N and p\n",
        "\n",
        "#Saída\n",
        "print('É', r, 'que você foi aprovado')"
      ],
      "metadata": {
        "colab": {
          "base_uri": "https://localhost:8080/"
        },
        "id": "OmcHonQ0tDnJ",
        "outputId": "c2f6a18c-ae79-48b0-c97e-befe360b5c34"
      },
      "execution_count": 39,
      "outputs": [
        {
          "output_type": "stream",
          "name": "stdout",
          "text": [
            "Sua nota: 100\n",
            "Esta presente?(responda com sim ou não) sim\n",
            "É True que você foi aprovado\n"
          ]
        }
      ]
    },
    {
      "cell_type": "code",
      "source": [
        "##Sistema de Multa de Velocidade 9\n",
        "#Entrada\n",
        "v =float(input('Qual a sua velocidade? (em km/h)'))\n",
        "\n",
        "#Processamento\n",
        "r = v > 80\n",
        "\n",
        "#Saída\n",
        "print('É', r, 'que você foi multad@')"
      ],
      "metadata": {
        "colab": {
          "base_uri": "https://localhost:8080/"
        },
        "id": "BemQB9uXtECV",
        "outputId": "f3706cb1-2a5d-4d30-c8fa-18ac1572a97b"
      },
      "execution_count": 40,
      "outputs": [
        {
          "output_type": "stream",
          "name": "stdout",
          "text": [
            "Qual a sua velocidade? (em km/h)99\n",
            "É True que você foi multad@\n"
          ]
        }
      ]
    },
    {
      "cell_type": "code",
      "source": [
        "##Triagem de Evento 10\n",
        "#Entrada\n",
        "c =input('Tem convite? (responder com sim ou não) ')\n",
        "i =float(input('Idade '))\n",
        "\n",
        "#Processamento\n",
        "C = c == 'sim'\n",
        "I = i >= 18\n",
        "r = C and I\n",
        "\n",
        "#Saída\n",
        "print('É', r, 'que que você pode entrar no evento.')"
      ],
      "metadata": {
        "colab": {
          "base_uri": "https://localhost:8080/"
        },
        "id": "ZF4JIdrQtEXL",
        "outputId": "eeb4b036-704e-4117-c521-199504825ae6"
      },
      "execution_count": 42,
      "outputs": [
        {
          "output_type": "stream",
          "name": "stdout",
          "text": [
            "Tem convite? (responder com sim ou não) sim\n",
            "Idade 19\n",
            "É True que que você pode entrar no evento.\n"
          ]
        }
      ]
    }
  ]
}